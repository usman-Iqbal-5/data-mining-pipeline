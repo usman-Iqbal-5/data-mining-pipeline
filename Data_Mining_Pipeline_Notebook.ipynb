{
  "cells": [
    {
      "cell_type": "markdown",
      "metadata": {
        "id": "WzMo-tDdHj-j"
      },
      "source": [
        "#**Data Mining Project**\n",
        "\n",
        "Name: Usman Iqbal\n",
        "\n",
        "This project follows the CRISP-DM pipeline, which is an iterative methodology. The stages are as follow Explanatory Data Analysis, Data preprossesing, Modelling, Testing, Hyperparameter tuning, Evalutation.\n",
        "\n",
        "The programming language used is Python as well as Python Data Science libraries including Numpy, Pandas, Matplotlib and SciKit Learn.\n",
        "\n",
        "This project was developed using Google Colab.\n",
        "\n",
        "Every attempt was made to make the process as reproducable as possible."
      ]
    },
    {
      "cell_type": "markdown",
      "source": [
        "# **Explanatory Data Analysis**"
      ],
      "metadata": {
        "id": "WE-958D9XI9M"
      }
    },
    {
      "cell_type": "markdown",
      "source": [
        "Importing packages"
      ],
      "metadata": {
        "id": "qqxHYVZwA8p2"
      }
    },
    {
      "cell_type": "code",
      "source": [
        "import pandas as pd\n",
        "import matplotlib.pyplot as plt\n",
        "import numpy as np\n",
        "from sklearn.model_selection import GroupShuffleSplit\n",
        "from sklearn.ensemble import IsolationForest\n",
        "from sklearn.preprocessing import MinMaxScaler\n",
        "from sklearn.metrics import balanced_accuracy_score, classification_report\n",
        "from sklearn.feature_selection import SelectKBest, mutual_info_classif\n",
        "from sklearn.ensemble import RandomForestClassifier\n",
        "from sklearn.model_selection import train_test_split\n",
        "from sklearn.tree import DecisionTreeClassifier\n",
        "from sklearn.metrics import accuracy_score, precision_score, recall_score, f1_score\n"
      ],
      "metadata": {
        "id": "_GDwMVDGA7wt"
      },
      "execution_count": 1,
      "outputs": []
    },
    {
      "cell_type": "markdown",
      "source": [
        "1) Importing the file into the notebook as a dataframe"
      ],
      "metadata": {
        "id": "qazGrDlxwfg7"
      }
    },
    {
      "cell_type": "code",
      "source": [
        "path = \"df_reduced.csv\"\n",
        "df = pd.read_csv(path ,sep=';')\n",
        "\n",
        "# shows the rows (observations), columns (varibales) and provides the total of the diffetent types of variable types\n",
        "df.info()"
      ],
      "metadata": {
        "colab": {
          "base_uri": "https://localhost:8080/"
        },
        "id": "8Nh6DFXDv7V-",
        "outputId": "5b31d8ef-e32e-4409-9fa4-6e7f28a629b2"
      },
      "execution_count": 2,
      "outputs": [
        {
          "output_type": "stream",
          "name": "stdout",
          "text": [
            "<class 'pandas.core.frame.DataFrame'>\n",
            "RangeIndex: 12402 entries, 0 to 12401\n",
            "Columns: 300 entries, Info_PepID to feat_esm1b_289\n",
            "dtypes: float64(290), int64(4), object(6)\n",
            "memory usage: 28.4+ MB\n"
          ]
        }
      ]
    },
    {
      "cell_type": "markdown",
      "source": [
        "2) Checking the missing values in the columns and the total number of missing values"
      ],
      "metadata": {
        "id": "Nm_TVKETwv1F"
      }
    },
    {
      "cell_type": "code",
      "source": [
        "print(end = \"\\n \\n \\n\")\n",
        "# shows the missing data across the columns\n",
        "missing_values = df.isnull()\n",
        "print(missing_values.sum())\n",
        "\n",
        "print(end = \"\\n \\n \\n\")\n",
        "\n",
        "# shows the total number of missing values in the entire dataset\n",
        "df.isnull().sum().sum()\n"
      ],
      "metadata": {
        "colab": {
          "base_uri": "https://localhost:8080/"
        },
        "id": "s0oSxL0Kv_eX",
        "outputId": "707f3a5d-c632-465b-83cf-dcf84f3dee67"
      },
      "execution_count": 3,
      "outputs": [
        {
          "output_type": "stream",
          "name": "stdout",
          "text": [
            "\n",
            " \n",
            " \n",
            "Info_PepID           0\n",
            "Info_organism_id     0\n",
            "Info_protein_id      0\n",
            "Info_pos             0\n",
            "Info_AA              0\n",
            "                    ..\n",
            "feat_esm1b_285      13\n",
            "feat_esm1b_286      14\n",
            "feat_esm1b_287      11\n",
            "feat_esm1b_288      13\n",
            "feat_esm1b_289      14\n",
            "Length: 300, dtype: int64\n",
            "\n",
            " \n",
            " \n"
          ]
        },
        {
          "output_type": "execute_result",
          "data": {
            "text/plain": [
              "14993"
            ]
          },
          "metadata": {},
          "execution_count": 3
        }
      ]
    },
    {
      "cell_type": "markdown",
      "source": [
        "3) Removing the Info variables (as they have no predictive value) and printing out a feature summary of the reamining values"
      ],
      "metadata": {
        "id": "geR1_Ew7w_vI"
      }
    },
    {
      "cell_type": "code",
      "source": [
        "# Identify and separate the feature variables\n",
        "info_variables = ['Info_PepID','Info_organism_id', 'Info_protein_id', 'Info_pos', 'Info_AA', 'Info_epitope_id', 'Info_nPos', 'Info_nNeg']  # Add the names of informational variables\n",
        "df = df.drop(info_variables, axis=1)\n",
        "feature_variables = df\n",
        "\n",
        "# Perform exploratory analysis on feature variables\n",
        "# For example, you can use describe() to get summary statistics\n",
        "feature_summary = feature_variables.describe()\n",
        "\n",
        "# Display the summary statistics\n",
        "print(\"Summary statistics for feature variables:\")\n",
        "print(feature_summary)\n"
      ],
      "metadata": {
        "colab": {
          "base_uri": "https://localhost:8080/"
        },
        "id": "FsW71mlIwI2j",
        "outputId": "79f5082e-982a-4d38-c5a0-8e022da8d54f"
      },
      "execution_count": 4,
      "outputs": [
        {
          "output_type": "stream",
          "name": "stdout",
          "text": [
            "Summary statistics for feature variables:\n",
            "       Info_cluster         Class  feat_esm1b_0  feat_esm1b_1  feat_esm1b_2  \\\n",
            "count  12402.000000  12402.000000  12388.000000  12388.000000  12390.000000   \n",
            "mean     139.667634     -0.970005      0.040924      0.150334      0.068379   \n",
            "std       77.944928      0.243095      0.194674      0.180886      0.206083   \n",
            "min        7.000000     -1.000000     -0.739531     -0.664717     -0.918128   \n",
            "25%       70.000000     -1.000000     -0.084004      0.040529     -0.065351   \n",
            "50%      145.000000     -1.000000      0.034410      0.145975      0.069221   \n",
            "75%      205.000000     -1.000000      0.160128      0.255262      0.203641   \n",
            "max      283.000000      1.000000      0.925082      1.203393      0.974194   \n",
            "\n",
            "       feat_esm1b_3  feat_esm1b_4  feat_esm1b_5  feat_esm1b_6  feat_esm1b_7  \\\n",
            "count  12389.000000  12390.000000  12388.000000  12388.000000  12390.000000   \n",
            "mean       0.077347      0.023808     -0.136817     -0.094994     -0.008023   \n",
            "std        0.183967      0.193493      0.193170      0.219265      0.240700   \n",
            "min       -0.931084     -1.010501     -1.086608     -1.499195     -0.957883   \n",
            "25%       -0.039926     -0.097352     -0.260591     -0.207169     -0.180765   \n",
            "50%        0.081350      0.035148     -0.135299     -0.071583     -0.034287   \n",
            "75%        0.201316      0.155194     -0.012340      0.051047      0.152728   \n",
            "max        1.217404      0.709081      0.838205      0.582508      1.275659   \n",
            "\n",
            "       ...  feat_esm1b_280  feat_esm1b_281  feat_esm1b_282  feat_esm1b_283  \\\n",
            "count  ...    12388.000000    12388.000000    12388.000000    12389.000000   \n",
            "mean   ...        0.097165        0.071550       -0.053270       -0.085493   \n",
            "std    ...        0.220632        0.192462        0.195300        0.273192   \n",
            "min    ...       -1.035132       -0.987730       -0.898706       -1.284584   \n",
            "25%    ...       -0.042771       -0.047586       -0.178838       -0.278291   \n",
            "50%    ...        0.097722        0.078830       -0.059335       -0.087916   \n",
            "75%    ...        0.243582        0.199581        0.066225        0.101746   \n",
            "max    ...        1.003307        0.966091        0.964062        1.041853   \n",
            "\n",
            "       feat_esm1b_284  feat_esm1b_285  feat_esm1b_286  feat_esm1b_287  \\\n",
            "count    12388.000000    12389.000000    12388.000000    12391.000000   \n",
            "mean         0.031548        0.064117       -0.073711       -0.138898   \n",
            "std          0.232971        0.205014        0.189592        0.203090   \n",
            "min         -1.076593       -1.045234       -1.043452       -0.982278   \n",
            "25%         -0.106314       -0.065745       -0.191607       -0.271883   \n",
            "50%          0.048964        0.058741       -0.080203       -0.137899   \n",
            "75%          0.193762        0.192159        0.037429       -0.007596   \n",
            "max          0.842581        1.056373        0.898551        0.708880   \n",
            "\n",
            "       feat_esm1b_288  feat_esm1b_289  \n",
            "count    12389.000000    12388.000000  \n",
            "mean        -0.055978        0.116088  \n",
            "std          0.191709        0.210566  \n",
            "min         -0.860550       -1.059898  \n",
            "25%         -0.187564        0.008592  \n",
            "50%         -0.061822        0.132910  \n",
            "75%          0.066036        0.246717  \n",
            "max          0.921726        0.992171  \n",
            "\n",
            "[8 rows x 292 columns]\n"
          ]
        }
      ]
    },
    {
      "cell_type": "markdown",
      "source": [
        "4) Visualising the missing values per column and per row"
      ],
      "metadata": {
        "id": "hsC3POr0xaLN"
      }
    },
    {
      "cell_type": "code",
      "source": [
        "#####Plots the counts of the missing values per column######\n",
        "# Check for missing values\n",
        "missing_values = df.isnull().sum()\n",
        "\n",
        "# Plot the count of missing values per column on a scatter plot\n",
        "plt.figure(figsize=(10, 6)) # the number of inches\n",
        "plt.scatter(missing_values.index, missing_values.values, color='blue')\n",
        "plt.title('Count of Missing Values per Column')\n",
        "plt.xlabel('Columns')\n",
        "plt.ylabel('Count of Missing Values')\n",
        "#plt.xticks(rotation=90)  # Rotate x-axis labels for better readability\n",
        "plt.grid(True)\n",
        "plt.show()\n",
        "\n",
        "\n",
        "# Check for missing values per row\n",
        "missing_values_per_row = df.isnull().sum(axis=1)\n",
        "\n",
        "# Plot the count of missing values per row on a scatter plot\n",
        "plt.figure(figsize=(10, 6))\n",
        "plt.scatter(df.index, missing_values_per_row, color='red')\n",
        "plt.title('Count of Missing Values per Row')\n",
        "plt.xlabel('Rows')\n",
        "plt.ylabel('Count of Missing Values')\n",
        "plt.grid(True)\n",
        "plt.show()\n",
        "\n"
      ],
      "metadata": {
        "colab": {
          "base_uri": "https://localhost:8080/",
          "height": 0
        },
        "id": "bzxx5kZRwWxh",
        "outputId": "87f47c7e-15d5-4a67-bb89-ad77b8b1a514"
      },
      "execution_count": 5,
      "outputs": [
        {
          "output_type": "display_data",
          "data": {
            "text/plain": [
              "<Figure size 1000x600 with 1 Axes>"
            ],
            "image/png": "[encoded data removed]"
          },
          "metadata": {}
        },
        {
          "output_type": "display_data",
          "data": {
            "text/plain": [
              "<Figure size 1000x600 with 1 Axes>"
            ],
            "image/png": "[encoded data removed]"
          },
          "metadata": {}
        }
      ]
    },
    {
      "cell_type": "markdown",
      "source": [
        "5) Visualising the Scale of the Features (by looking at the difference between the minimum and maximum values) using a range of different plots"
      ],
      "metadata": {
        "id": "rp8LM7_myAlh"
      }
    },
    {
      "cell_type": "code",
      "source": [
        "########Scales#########\n",
        "# Calculate maxima and minima\n",
        "maxima = feature_variables.max()\n",
        "minima = feature_variables.min()\n",
        "\n",
        "# Convert maxima and minima to vectors\n",
        "maxima_vector = maxima.values\n",
        "minima_vector = minima.values\n",
        "\n",
        "# Plot maxima and minima vectors\n",
        "plt.plot(maxima_vector, label='Maxima', marker='o', linestyle = \"none\")\n",
        "plt.plot(minima_vector, label='Minima', marker='x', linestyle = \"none\")\n",
        "\n",
        "# Add labels and legend\n",
        "plt.xlabel('Feature Index')\n",
        "plt.ylabel('Values')\n",
        "plt.title('Maxima and Minima of Variables')\n",
        "plt.legend()\n",
        "\n",
        "# Show plot\n",
        "plt.show()\n",
        "\n",
        "\n",
        "###### BoxPlots#####\n",
        "\n",
        "# Calculate ranges for each variable\n",
        "ranges = feature_variables.max() - feature_variables.min()\n",
        "\n",
        "########BAR PLOT#######\n",
        "\n",
        "plt.figure()\n",
        "plt.bar(ranges.index, ranges.values)\n",
        "plt.xlabel('Columns')\n",
        "plt.ylabel('Range')\n",
        "plt.title('Ranges of Columns')\n",
        "\n",
        "\n",
        "\n",
        "# Plot histogram of ranges\n",
        "plt.figure()\n",
        "plt.hist(ranges, edgecolor='black', alpha=0.7)\n",
        "plt.xlabel('Range')\n",
        "plt.ylabel('Frequency')\n",
        "plt.title('Histogram of Variable Ranges')\n",
        "\n",
        "# Show plot\n",
        "plt.show()\n"
      ],
      "metadata": {
        "colab": {
          "base_uri": "https://localhost:8080/",
          "height": 0
        },
        "id": "KX77R6frwaeM",
        "outputId": "7b2f8ea5-929d-4ebd-82ee-6ddeb6b0ece9"
      },
      "execution_count": 6,
      "outputs": [
        {
          "output_type": "display_data",
          "data": {
            "text/plain": [
              "<Figure size 640x480 with 1 Axes>"
            ],
            "image/png": "[encoded data removed]"
          },
          "metadata": {}
        },
        {
          "output_type": "display_data",
          "data": {
            "text/plain": [
              "<Figure size 640x480 with 1 Axes>"
            ],
            "image/png": "[encoded data removed]"
          },
          "metadata": {}
        },
        {
          "output_type": "display_data",
          "data": {
            "text/plain": [
              "<Figure size 640x480 with 1 Axes>"
            ],
            "image/png": "[encoded data removed]"
          },
          "metadata": {}
        }
      ]
    },
    {
      "cell_type": "markdown",
      "source": [
        "6) checking the total class balance (whilst acknowledging the \"Info_cluster\" grouping structure) and visualing the distribution of class balance"
      ],
      "metadata": {
        "id": "uryaMSSEylng"
      }
    },
    {
      "cell_type": "code",
      "execution_count": 7,
      "metadata": {
        "colab": {
          "base_uri": "https://localhost:8080/",
          "height": 0
        },
        "id": "IHQhVwlLw47z",
        "outputId": "86a6c514-a45c-4e63-e7a6-ed1ccdb05445"
      },
      "outputs": [
        {
          "output_type": "stream",
          "name": "stdout",
          "text": [
            "Overall Class Balance:\n",
            "Class\n",
            "-1    0.985002\n",
            " 1    0.014998\n",
            "Name: proportion, dtype: float64\n",
            "\n",
            "\n",
            "\n"
          ]
        },
        {
          "output_type": "display_data",
          "data": {
            "text/plain": [
              "<Figure size 1000x600 with 1 Axes>"
            ],
            "image/png": "[encoded data removed]"
          },
          "metadata": {}
        },
        {
          "output_type": "display_data",
          "data": {
            "text/plain": [
              "<Figure size 640x480 with 1 Axes>"
            ],
            "image/png": "[encoded data removed]"
          },
          "metadata": {}
        }
      ],
      "source": [
        "###### class balance under cluster #########\n",
        "\n",
        "#Overall class balance proportions#\n",
        "class_balance = df['Class'].value_counts(normalize=True) # normalising shows the proportions relative to the total\n",
        "\n",
        "print(\"Overall Class Balance:\")\n",
        "print(class_balance)\n",
        "\n",
        "print(end = \"\\n\\n\\n\")\n",
        "\n",
        "#####Grpah to show the mean class value agaisnt the Grouped Info cluster variable#####\n",
        "\n",
        "# Group data by 'Info_cluster' and calculate mean class value\n",
        "mean_class_per_cluster = df.groupby('Info_cluster')['Class'].mean().reset_index()\n",
        "\n",
        "# Scatter plot\n",
        "plt.figure(figsize=(10, 6))\n",
        "plt.scatter(mean_class_per_cluster['Info_cluster'], mean_class_per_cluster['Class'], alpha=0.5)\n",
        "plt.title('Info_cluster agaisnt mean class value')\n",
        "plt.xlabel('Info_cluster')\n",
        "plt.ylabel('Mean Class Value')\n",
        "plt.grid(True)\n",
        "plt.show()\n",
        "\n",
        "df.plot(kind='scatter', x='Info_cluster', y='Class', s=32, alpha=.8)\n",
        "plt.gca().spines[['top', 'right',]].set_visible(False)\n",
        "\n",
        "#--- Shows the vast majority of the class varibale is -1"
      ]
    },
    {
      "cell_type": "markdown",
      "source": [
        "## EDA Summary\n",
        "\n",
        "*   Most of the dataset is numerical (float64(290), int64(4), object(6))\n",
        "*   It is a high dimensional dataset intially with 300 features\n",
        "*   There are a total of 14993 missing values in the dataset (a single column had over 10,000 missing values and 14 rows have over 250 missing values)\n",
        "*   1 column has a massive differece in scaling\n",
        "*   It is a highly imbalanced dataset - rougly 98% of all classes are \"-1\"\n",
        "\n",
        "\n"
      ],
      "metadata": {
        "id": "1S9grNPhzKtF"
      }
    },
    {
      "cell_type": "markdown",
      "source": [
        "# **Data Pre-processing**"
      ],
      "metadata": {
        "id": "eXhgxLKvTiRJ"
      }
    },
    {
      "cell_type": "markdown",
      "source": [
        "Checking missing Values again"
      ],
      "metadata": {
        "id": "xtrTEAip7l7W"
      }
    },
    {
      "cell_type": "code",
      "source": [
        "# Number of missing values in columns\n",
        "missing_values_columns = df.isnull().sum()\n",
        "\n",
        "# Plot missing values in columns\n",
        "plt.figure(figsize=(10, 6))\n",
        "missing_values_columns.plot(kind='bar')\n",
        "plt.title('Number of Missing Values in Columns')\n",
        "plt.xlabel('Columns')\n",
        "plt.ylabel('Number of Missing Values')\n",
        "plt.xticks(rotation=90)\n",
        "plt.show()\n",
        "\n",
        "#--- this shows that column 'feat_esm1b_148' has over 10,000 missing values and should be removed\n",
        "\n",
        "# Number of missing values in rows\n",
        "missing_values_rows = df.isnull().sum(axis=1)\n",
        "\n",
        "# Plot missing values in rows\n",
        "plt.figure(figsize=(10, 6))\n",
        "missing_values_rows.plot(kind='hist')\n",
        "plt.title('Number of Missing Values in Rows')\n",
        "plt.xlabel('Number of Missing Values')\n",
        "plt.ylabel('Frequency')\n",
        "plt.grid(True)\n",
        "plt.show()\n"
      ],
      "metadata": {
        "colab": {
          "base_uri": "https://localhost:8080/",
          "height": 1000
        },
        "id": "ZwxVWYsu5rRh",
        "outputId": "aefe04b6-7c8e-4739-9cea-bae3734efe9c"
      },
      "execution_count": 8,
      "outputs": [
        {
          "output_type": "display_data",
          "data": {
            "text/plain": [
              "<Figure size 1000x600 with 1 Axes>"
            ],
            "image/png": "[encoded data removed]"
          },
          "metadata": {}
        },
        {
          "output_type": "display_data",
          "data": {
            "text/plain": [
              "<Figure size 1000x600 with 1 Axes>"
            ],
            "image/png": "[encoded data removed]"
          },
          "metadata": {}
        }
      ]
    },
    {
      "cell_type": "markdown",
      "source": [
        "Dealing with Missing Values by removing columns and rows with missing values"
      ],
      "metadata": {
        "id": "luzwvSgK7jxK"
      }
    },
    {
      "cell_type": "code",
      "source": [
        "# Define thresholds for the percentage of missing values in columns and rows\n",
        "threshold_column = 0.5\n",
        "threshold_row = 0.5\n",
        "\n",
        "# Calculate the percentage of missing values in each column and row\n",
        "missing_percentage_column = df.isnull().mean()\n",
        "missing_percentage_row = df.isnull().mean(axis=1)\n",
        "\n",
        "# Get the list of columns and rows to drop\n",
        "columns_to_drop = missing_percentage_column[missing_percentage_column > threshold_column].index.tolist()\n",
        "rows_to_drop = missing_percentage_row[missing_percentage_row > threshold_row].index.tolist()\n",
        "\n",
        "# Remove columns and rows with mostly missing values from the dataset\n",
        "cleaned_df = df.drop(columns=columns_to_drop, index=rows_to_drop)\n",
        "\n",
        "print(\"\\n\\n\\n\")\n",
        "# Print the list of columns and rows dropped\n",
        "print(\"Columns dropped:\", columns_to_drop)\n",
        "print(\"Rows dropped:\", rows_to_drop)\n",
        "print(\"\\n\\n\\n\")\n"
      ],
      "metadata": {
        "colab": {
          "base_uri": "https://localhost:8080/"
        },
        "id": "fIKKk7AD5riJ",
        "outputId": "d775e2ec-7760-4171-a044-f25bac7211f4"
      },
      "execution_count": 9,
      "outputs": [
        {
          "output_type": "stream",
          "name": "stdout",
          "text": [
            "\n",
            "\n",
            "\n",
            "\n",
            "Columns dropped: ['feat_esm1b_148']\n",
            "Rows dropped: [100, 1139, 2775, 3371, 5676, 5795, 7473, 7727, 8958, 9192, 9718, 10507, 11048, 12239]\n",
            "\n",
            "\n",
            "\n",
            "\n"
          ]
        }
      ]
    },
    {
      "cell_type": "markdown",
      "source": [
        "Plot missing values again to determine if missing values are gone"
      ],
      "metadata": {
        "id": "BVW18G0l70WW"
      }
    },
    {
      "cell_type": "code",
      "source": [
        "# Plot the count of missing values per column on a scatter plot\n",
        "\n",
        "missing_values = cleaned_df.isnull().sum()\n",
        "plt.figure(figsize=(10, 6)) # the number of inches\n",
        "plt.scatter(missing_values.index, missing_values.values, color='blue')\n",
        "plt.title('Count of Missing Values per Column')\n",
        "plt.xlabel('Columns')\n",
        "plt.ylabel('Count of Missing Values')\n",
        "plt.grid(True)\n",
        "plt.show()\n",
        "\n",
        "\n",
        "# Check for missing values per row\n",
        "missing_values_per_row = cleaned_df.isnull().sum(axis=1)\n",
        "\n",
        "# Plot the count of missing values per row on a scatter plot\n",
        "plt.figure(figsize=(10, 6))\n",
        "plt.scatter(cleaned_df.index, missing_values_per_row, color='red')\n",
        "plt.title('Count of Missing Values per Row')\n",
        "plt.xlabel('Rows')\n",
        "plt.ylabel('Count of Missing Values')\n",
        "plt.grid(True)\n",
        "plt.show()\n",
        "\n",
        "\n",
        "# Check for missing values in the cleaned dataset\n",
        "remaining_missing_values = cleaned_df.isnull().sum().sum()\n",
        "\n",
        "if remaining_missing_values == 0:\n",
        "    print(\"No remaining missing values in the cleaned dataset.\")\n",
        "else:\n",
        "    print(f\"There are {remaining_missing_values} remaining missing values in the cleaned dataset.\")\n",
        "\n",
        "print(\"\\n\\n\\n\")\n",
        "\n",
        "\n",
        "# set the df to cleaned df\n",
        "df = cleaned_df\n"
      ],
      "metadata": {
        "colab": {
          "base_uri": "https://localhost:8080/",
          "height": 1000
        },
        "id": "zSdRbCgj5IWU",
        "outputId": "968897e7-8f9d-4458-ce03-24038cfc3b1d"
      },
      "execution_count": 10,
      "outputs": [
        {
          "output_type": "display_data",
          "data": {
            "text/plain": [
              "<Figure size 1000x600 with 1 Axes>"
            ],
            "image/png": "[encoded data removed]"
          },
          "metadata": {}
        },
        {
          "output_type": "display_data",
          "data": {
            "text/plain": [
              "<Figure size 1000x600 with 1 Axes>"
            ],
            "image/png": "[encoded data removed]"
          },
          "metadata": {}
        },
        {
          "output_type": "stream",
          "name": "stdout",
          "text": [
            "No remaining missing values in the cleaned dataset.\n",
            "\n",
            "\n",
            "\n",
            "\n"
          ]
        }
      ]
    },
    {
      "cell_type": "markdown",
      "source": [
        "Split the Data using GroupShuffleSplit (taking \"Info_cluster\" grouping structure into consideration)"
      ],
      "metadata": {
        "id": "jRvUhC1U7-tC"
      }
    },
    {
      "cell_type": "code",
      "source": [
        "\n",
        "# Extract the 'Info_cluster' variable\n",
        "info_cluster = df['Info_cluster']\n",
        "\n",
        "# Initialize GroupShuffleSplit with the desired parameters\n",
        "group_splitter = GroupShuffleSplit(n_splits=1, train_size=0.75, random_state=50)\n",
        "\n",
        "# Split the dataset\n",
        "for train_index, eval_index in group_splitter.split(df, groups=info_cluster):\n",
        "    training_data = df.iloc[train_index]\n",
        "    evaluation_data = df.iloc[eval_index]\n",
        "\n",
        "\n",
        "# Calculate class balance in the original data\n",
        "class_balance_original = df['Class'].value_counts(normalize=True)\n",
        "\n",
        "# Calculate class balance in the training data\n",
        "class_balance_train = training_data['Class'].value_counts(normalize=True)\n",
        "\n",
        "# Calculate class balance in the evaluation data\n",
        "class_balance_eval = evaluation_data['Class'].value_counts(normalize=True)\n",
        "\n",
        "# Print the class balance\n",
        "print(\"Class balance in original data:\")\n",
        "print(class_balance_original)\n",
        "print(\"\\nClass balance in training data:\")\n",
        "print(class_balance_train)\n",
        "print(\"\\nClass balance in evaluation data:\")\n",
        "print(class_balance_eval)"
      ],
      "metadata": {
        "colab": {
          "base_uri": "https://localhost:8080/"
        },
        "id": "l1VmkIPB5X9P",
        "outputId": "9cdbab26-b37e-44a1-8ff6-34e03c0eef03"
      },
      "execution_count": 11,
      "outputs": [
        {
          "output_type": "stream",
          "name": "stdout",
          "text": [
            "Class balance in original data:\n",
            "Class\n",
            "-1    0.985066\n",
            " 1    0.014934\n",
            "Name: proportion, dtype: float64\n",
            "\n",
            "Class balance in training data:\n",
            "Class\n",
            "-1    0.98591\n",
            " 1    0.01409\n",
            "Name: proportion, dtype: float64\n",
            "\n",
            "Class balance in evaluation data:\n",
            "Class\n",
            "-1    0.981768\n",
            " 1    0.018232\n",
            "Name: proportion, dtype: float64\n"
          ]
        }
      ]
    },
    {
      "cell_type": "markdown",
      "source": [
        "Using Isolation Forest to identify outliers"
      ],
      "metadata": {
        "id": "6KsW-qwt8P8f"
      }
    },
    {
      "cell_type": "code",
      "source": [
        "# Initialise Isolation Forest model (unspecified contamination)\n",
        "isolation_forest = IsolationForest(random_state=42)\n",
        "\n",
        "# Fit the model to the data and predict outliers\n",
        "outlier_preds = isolation_forest.fit_predict(training_data)\n",
        "\n",
        "# Identify outliers (outlier_preds == -1 indicates outliers)\n",
        "outliers = training_data[outlier_preds == -1]\n",
        "\n",
        "#--- this method identified [462 rows x 291 columns]\n",
        "\n",
        "# Initialize counters for outliers and inliers\n",
        "outlier_count = 0\n",
        "inlier_count = 0\n",
        "\n",
        "# Loop through the outlier predictions\n",
        "for pred in outlier_preds:\n",
        "    if pred == -1:\n",
        "        outlier_count += 1\n",
        "    elif pred == 1:\n",
        "        inlier_count += 1\n",
        "\n",
        "# Print the counts\n",
        "print(\"Number of Intial Outliers and Inliers using Isolation Forest\")\n",
        "print(\"Number of outliers (-1):\", outlier_count)\n",
        "print(\"Number of inliers (1):\", inlier_count)"
      ],
      "metadata": {
        "colab": {
          "base_uri": "https://localhost:8080/"
        },
        "id": "d_leFDi46FbB",
        "outputId": "96825938-702e-4a04-95ab-98efb31036eb"
      },
      "execution_count": 12,
      "outputs": [
        {
          "output_type": "stream",
          "name": "stdout",
          "text": [
            "Number of Intial Outliers and Inliers using Isolation Forest\n",
            "Number of outliers (-1): 462\n",
            "Number of inliers (1): 9403\n"
          ]
        }
      ]
    },
    {
      "cell_type": "markdown",
      "source": [
        "Using Quantile capping on the Outliers identified"
      ],
      "metadata": {
        "id": "USSYyWpD8acu"
      }
    },
    {
      "cell_type": "code",
      "source": [
        "# Identify the rows that contain outliers based on the 'outliers' DataFrame\n",
        "outlier_indices = outliers[outliers == -1].index\n",
        "\n",
        "# Calculate the 5th and 95th percentiles for each column in the identified outlier rows\n",
        "outlier_data = training_data.loc[outlier_indices]\n",
        "percentiles_lower= outlier_data.quantile(0.05)\n",
        "percentiles_upper = outlier_data.quantile(0.95)\n",
        "\n",
        "# Apply quantile capping to the identified outlier rows\n",
        "for column in outliers.columns:\n",
        "    training_data.loc[outlier_indices, column] = training_data.loc[outlier_indices, column].clip(upper=percentiles_upper[column])"
      ],
      "metadata": {
        "id": "alNhqHfJ6FjT"
      },
      "execution_count": 13,
      "outputs": []
    },
    {
      "cell_type": "markdown",
      "source": [
        "Retrying Isolation Forest after using Qunatile Capping"
      ],
      "metadata": {
        "id": "ycZj8lFy8hx9"
      }
    },
    {
      "cell_type": "code",
      "execution_count": 14,
      "metadata": {
        "colab": {
          "base_uri": "https://localhost:8080/"
        },
        "id": "1r5wbBPtnx-A",
        "outputId": "4d63e294-e9a7-435e-b71c-455730066254"
      },
      "outputs": [
        {
          "output_type": "stream",
          "name": "stdout",
          "text": [
            "\n",
            "\n",
            "\n",
            "\n",
            "Number of detected Outliers and Inliners, using Isolation Forest, after Quantile Capping\n",
            "Number of outliers (-1): 445\n",
            "Number of inliers (1): 9420\n"
          ]
        }
      ],
      "source": [
        "# Initialise Isolation Forest model\n",
        "isolation_forest = IsolationForest(random_state=42)\n",
        "\n",
        "# Fit the model to the data and predict outliers\n",
        "outlier_preds = isolation_forest.fit_predict(training_data)\n",
        "\n",
        "# Identify outliers (outlier_preds == -1 indicates outliers)\n",
        "outliers = training_data[outlier_preds == -1]\n",
        "\n",
        "print(\"\\n\\n\\n\")\n",
        "### count inliers and outliers again\n",
        "outlier_count = 0\n",
        "inlier_count = 0\n",
        "for pred in outlier_preds:\n",
        "    if pred == -1:\n",
        "        outlier_count += 1\n",
        "    elif pred == 1:\n",
        "        inlier_count += 1\n",
        "print(\"Number of detected Outliers and Inliners, using Isolation Forest, after Quantile Capping\")\n",
        "print(\"Number of outliers (-1):\", outlier_count)\n",
        "print(\"Number of inliers (1):\", inlier_count)\n"
      ]
    },
    {
      "cell_type": "markdown",
      "source": [
        "Normalisation - scaling the data"
      ],
      "metadata": {
        "id": "KzoF6-UO8u1b"
      }
    },
    {
      "cell_type": "code",
      "execution_count": 15,
      "metadata": {
        "colab": {
          "base_uri": "https://localhost:8080/"
        },
        "id": "PGjJ3u2-w3Xw",
        "outputId": "18ccb5ea-b510-465f-e16a-038c5426a833"
      },
      "outputs": [
        {
          "output_type": "stream",
          "name": "stdout",
          "text": [
            "Minimum and Maximum values for each feature before scaling:\n",
            "     Info_cluster  Class  feat_esm1b_0  feat_esm1b_1  feat_esm1b_2  \\\n",
            "min             7     -1     -0.739531     -0.664717     -0.878746   \n",
            "max           283      1      0.784410      1.051745      0.974194   \n",
            "\n",
            "     feat_esm1b_3  feat_esm1b_4  feat_esm1b_5  feat_esm1b_6  feat_esm1b_7  \\\n",
            "min     -0.931084     -1.010501     -1.086608     -1.499195     -0.957883   \n",
            "max      0.824154      0.709081      0.838205      0.582508      1.052097   \n",
            "\n",
            "     ...  feat_esm1b_280  feat_esm1b_281  feat_esm1b_282  feat_esm1b_283  \\\n",
            "min  ...       -1.035132       -0.987730       -0.898706       -1.284584   \n",
            "max  ...        0.772923        0.966091        0.707259        0.908633   \n",
            "\n",
            "     feat_esm1b_284  feat_esm1b_285  feat_esm1b_286  feat_esm1b_287  \\\n",
            "min       -1.076593       -0.707514       -1.043452       -0.935589   \n",
            "max        0.707677        0.958485        0.898551        0.708880   \n",
            "\n",
            "     feat_esm1b_288  feat_esm1b_289  \n",
            "min       -0.860550       -1.059898  \n",
            "max        0.921726        0.992171  \n",
            "\n",
            "[2 rows x 291 columns]\n"
          ]
        },
        {
          "output_type": "stream",
          "name": "stderr",
          "text": [
            "<ipython-input-15-cf8c8647b952>:12: SettingWithCopyWarning: \n",
            "A value is trying to be set on a copy of a slice from a DataFrame.\n",
            "Try using .loc[row_indexer,col_indexer] = value instead\n",
            "\n",
            "See the caveats in the documentation: https://pandas.pydata.org/pandas-docs/stable/user_guide/indexing.html#returning-a-view-versus-a-copy\n",
            "  training_data[columns_to_scale] = scaler.fit_transform(training_data[columns_to_scale])\n"
          ]
        },
        {
          "output_type": "stream",
          "name": "stdout",
          "text": [
            "\n",
            "Minimum and Maximum values for each feature after scaling:\n",
            "     Info_cluster  Class  feat_esm1b_0  feat_esm1b_1  feat_esm1b_2  \\\n",
            "min             7     -1           0.0           0.0           0.0   \n",
            "max           283      1           1.0           1.0           1.0   \n",
            "\n",
            "     feat_esm1b_3  feat_esm1b_4  feat_esm1b_5  feat_esm1b_6  feat_esm1b_7  \\\n",
            "min           0.0           0.0           0.0           0.0           0.0   \n",
            "max           1.0           1.0           1.0           1.0           1.0   \n",
            "\n",
            "     ...  feat_esm1b_280  feat_esm1b_281  feat_esm1b_282  feat_esm1b_283  \\\n",
            "min  ...             0.0             0.0             0.0             0.0   \n",
            "max  ...             1.0             1.0             1.0             1.0   \n",
            "\n",
            "     feat_esm1b_284  feat_esm1b_285  feat_esm1b_286  feat_esm1b_287  \\\n",
            "min             0.0             0.0             0.0             0.0   \n",
            "max             1.0             1.0             1.0             1.0   \n",
            "\n",
            "     feat_esm1b_288  feat_esm1b_289  \n",
            "min             0.0             0.0  \n",
            "max             1.0             1.0  \n",
            "\n",
            "[2 rows x 291 columns]\n",
            "\n",
            "Missing values in the 'Class' and 'Info_cluster' columns after scaling:\n",
            "Class           0\n",
            "Info_cluster    0\n",
            "dtype: int64\n"
          ]
        }
      ],
      "source": [
        "# Print the minimum and maximum values for each feature before scaling\n",
        "print(\"Minimum and Maximum values for each feature before scaling:\")\n",
        "print(training_data.agg(['min', 'max']))\n",
        "\n",
        "# Initialize MinMaxScaler\n",
        "scaler = MinMaxScaler()\n",
        "\n",
        "# Specify columns to scale (exclude 'Class' and 'Info_cluster')\n",
        "columns_to_scale = training_data.columns.drop(['Class', 'Info_cluster'])\n",
        "\n",
        "# Fit scaler to the selected columns and transform them\n",
        "training_data[columns_to_scale] = scaler.fit_transform(training_data[columns_to_scale])\n",
        "\n",
        "# Print the minimum and maximum values for each feature after scaling\n",
        "print(\"\\nMinimum and Maximum values for each feature after scaling:\")\n",
        "print(training_data.agg(['min', 'max']))\n",
        "\n",
        "# Check for missing values in the 'Class' and 'Info_cluster' columns after scaling\n",
        "missing_values_after_scaling = training_data[['Class', 'Info_cluster']].isnull().sum()\n",
        "print(\"\\nMissing values in the 'Class' and 'Info_cluster' columns after scaling:\")\n",
        "print(missing_values_after_scaling)"
      ]
    },
    {
      "cell_type": "markdown",
      "source": [
        "Feature Reduction - this step uses Information gain to Identify the top 10 features"
      ],
      "metadata": {
        "id": "-YsRt94f64e9"
      }
    },
    {
      "cell_type": "code",
      "execution_count": 16,
      "metadata": {
        "colab": {
          "base_uri": "https://localhost:8080/",
          "height": 516
        },
        "id": "mOtvWz4_95zB",
        "outputId": "151c1bb9-1d36-4cdd-b62e-eb5926709340"
      },
      "outputs": [
        {
          "output_type": "display_data",
          "data": {
            "text/plain": [
              "<Figure size 1000x600 with 1 Axes>"
            ],
            "image/png": "[encoded data removed]"
          },
          "metadata": {}
        }
      ],
      "source": [
        "# Define your feature matrix (X) and target variable (y)\n",
        "X = training_data.drop(columns=['Class', 'Info_cluster'])  # Features\n",
        "y = training_data['Class']  # Target variable\n",
        "\n",
        "# Instantiate the SelectKBest feature selection method\n",
        "selector = SelectKBest(score_func=mutual_info_classif, k=10)  # Select top 10 features\n",
        "\n",
        "# Fit the selector to the data\n",
        "selector.fit(X, y)\n",
        "\n",
        "# Get the scores of the features\n",
        "scores = selector.scores_\n",
        "\n",
        "# Get the indices of the top 10 features\n",
        "top_indices = scores.argsort()[-10:][::-1]\n",
        "\n",
        "# Get the names of the top 10 features\n",
        "top_features = X.columns[top_indices]\n",
        "\n",
        "# Plot the scores of the top 10 features\n",
        "plt.figure(figsize=(10, 6))\n",
        "plt.barh(range(len(top_features)), scores[top_indices], align='center')\n",
        "plt.yticks(range(len(top_features)), top_features)\n",
        "plt.xlabel('Information Gain')\n",
        "plt.ylabel('Features')\n",
        "plt.title('Top 10 Most Important Features')\n",
        "plt.show()"
      ]
    },
    {
      "cell_type": "markdown",
      "source": [
        "Use a Random Forest to identify the most important features - this is another way and is used here as a validation technique\n",
        "\n",
        "Most of the feature identifed by Information Gain and the random forest feature importance are similar. This suggest I have a good range of features for feature selection."
      ],
      "metadata": {
        "id": "xTuC5b8b--ny"
      }
    },
    {
      "cell_type": "code",
      "source": [
        "# Define features (X) and target variable (y) for training_subset\n",
        "X_train = training_data.drop(columns=['Class', 'Info_cluster'])  # Features\n",
        "y_train = training_data['Class']  # Target variable\n",
        "\n",
        "# Initialize Random Forest Classifier\n",
        "random_forest = RandomForestClassifier(random_state=42)\n",
        "\n",
        "# Train the Random Forest Classifier\n",
        "random_forest.fit(X_train, y_train)\n",
        "\n",
        "# Get feature importances\n",
        "feature_importances = random_forest.feature_importances_\n",
        "\n",
        "# Create a DataFrame to store feature importances\n",
        "feature_importance_df = pd.DataFrame({'Feature': X_train.columns, 'Importance': feature_importances})\n",
        "\n",
        "# Sort features by importance and select top 15\n",
        "top_15_features = feature_importance_df.sort_values(by='Importance', ascending=False).head(15)\n",
        "\n",
        "# Visualize top 15 feature importances\n",
        "plt.figure(figsize=(10, 6))\n",
        "plt.barh(top_15_features['Feature'], top_15_features['Importance'])\n",
        "plt.xlabel('Importance')\n",
        "plt.ylabel('Feature')\n",
        "plt.title('Top 15 Feature Importances')\n",
        "plt.show()"
      ],
      "metadata": {
        "colab": {
          "base_uri": "https://localhost:8080/",
          "height": 516
        },
        "id": "25EFrxrU-6ep",
        "outputId": "92a1185f-d0cd-40ad-d5e2-2dcf41a8e2fd"
      },
      "execution_count": 19,
      "outputs": [
        {
          "output_type": "display_data",
          "data": {
            "text/plain": [
              "<Figure size 1000x600 with 1 Axes>"
            ],
            "image/png": "[encoded data removed]"
          },
          "metadata": {}
        }
      ]
    },
    {
      "cell_type": "markdown",
      "source": [
        "## Steps involved in Data Pre-processing\n",
        "\n",
        "1) Remove columns and rows that have majority missing values\n",
        "\n",
        "2) Split data into training and evaluation subsets (taking \"Info_cluster\" into consideration)\n",
        "\n",
        "3)Use Isolation forest to determine the outliers and then use quantile capping to cap at the 5th and 95th percentile\n",
        "\n",
        "4) Scale the training data using MinMaxScaler() and check the min-max range before and after scaling to ensure it worked\n",
        "\n",
        "5) preform feature reduction using Information gain to identify the top 10 most important features\n",
        "\n",
        "\n",
        "\n",
        "\n"
      ],
      "metadata": {
        "id": "6gLErTUZ8_-4"
      }
    },
    {
      "cell_type": "markdown",
      "source": [
        "# **Preliminary Modelling**"
      ],
      "metadata": {
        "id": "tgN0tJG-7aBa"
      }
    },
    {
      "cell_type": "markdown",
      "source": [
        "Splitting the training data further into train_subset and eval_subset"
      ],
      "metadata": {
        "id": "cOP1a2Sd_fJO"
      }
    },
    {
      "cell_type": "code",
      "source": [
        "# Shuffle the unique values of Info_cluster\n",
        "unique_info_clusters = training_data['Info_cluster'].unique()\n",
        "np.random.shuffle(unique_info_clusters)\n",
        "\n",
        "# Split the unique values into training and evaluation clusters\n",
        "train_clusters, eval_clusters = train_test_split(unique_info_clusters, test_size=0.25, random_state=50)\n",
        "\n",
        "# Filter the training and evaluation subsets based on the selected clusters\n",
        "train_subset = training_data[training_data['Info_cluster'].isin(train_clusters)]\n",
        "eval_subset = training_data[training_data['Info_cluster'].isin(eval_clusters)]\n",
        "\n",
        "# Check the distribution of 'Info_cluster' values in each subset\n",
        "print(\"Training Subset Info_cluster Distribution:\")\n",
        "print(train_subset['Info_cluster'].value_counts())\n",
        "print(\"\\nEvaluation Subset Info_cluster Distribution:\")\n",
        "print(eval_subset['Info_cluster'].value_counts())\n"
      ],
      "metadata": {
        "colab": {
          "base_uri": "https://localhost:8080/"
        },
        "id": "EKlpJ8ts7QQl",
        "outputId": "243ba3df-1697-45a5-836b-0aecf3b27e40"
      },
      "execution_count": 20,
      "outputs": [
        {
          "output_type": "stream",
          "name": "stdout",
          "text": [
            "Training Subset Info_cluster Distribution:\n",
            "Info_cluster\n",
            "205    373\n",
            "153    206\n",
            "44     183\n",
            "168    142\n",
            "28     130\n",
            "      ... \n",
            "17       8\n",
            "118      6\n",
            "108      6\n",
            "227      5\n",
            "135      5\n",
            "Name: count, Length: 148, dtype: int64\n",
            "\n",
            "Evaluation Subset Info_cluster Distribution:\n",
            "Info_cluster\n",
            "154    305\n",
            "211    196\n",
            "142    170\n",
            "18     164\n",
            "132     95\n",
            "75      90\n",
            "119     86\n",
            "57      79\n",
            "125     78\n",
            "63      75\n",
            "13      73\n",
            "70      69\n",
            "62      67\n",
            "123     60\n",
            "187     54\n",
            "37      53\n",
            "60      50\n",
            "89      48\n",
            "229     48\n",
            "224     39\n",
            "122     37\n",
            "222     36\n",
            "215     36\n",
            "76      35\n",
            "73      35\n",
            "69      33\n",
            "91      33\n",
            "52      31\n",
            "199     30\n",
            "221     29\n",
            "274     27\n",
            "266     26\n",
            "275     25\n",
            "124     24\n",
            "228     24\n",
            "105     23\n",
            "130     22\n",
            "248     21\n",
            "66      17\n",
            "219     17\n",
            "49      15\n",
            "176     14\n",
            "206     13\n",
            "218     13\n",
            "45       9\n",
            "182      8\n",
            "19       7\n",
            "192      6\n",
            "159      4\n",
            "198      3\n",
            "Name: count, dtype: int64\n"
          ]
        }
      ]
    },
    {
      "cell_type": "markdown",
      "source": [
        "Creating a preliminary Decision Tree to test performance (before class balancing)"
      ],
      "metadata": {
        "id": "9Y87dtLN_vgn"
      }
    },
    {
      "cell_type": "code",
      "source": [
        "# Define X_train_subset with only the top 10 features\n",
        "X_train_subset = train_subset[top_features]\n",
        "\n",
        "# Define y_train_subset\n",
        "y_train_subset = train_subset['Class']\n",
        "\n",
        "# Instantiate the DecisionTreeClassifier\n",
        "decision_tree = DecisionTreeClassifier(random_state=42)\n",
        "\n",
        "# Fit the decision tree to the training subset data\n",
        "decision_tree.fit(X_train_subset, y_train_subset)"
      ],
      "metadata": {
        "colab": {
          "base_uri": "https://localhost:8080/",
          "height": 74
        },
        "id": "sGhZL8WM-xBE",
        "outputId": "3b173dcd-31b9-443a-bdd3-f419fbb0c071"
      },
      "execution_count": 21,
      "outputs": [
        {
          "output_type": "execute_result",
          "data": {
            "text/plain": [
              "DecisionTreeClassifier(random_state=42)"
            ],
            "text/html": [
              "<style>#sk-container-id-1 {color: black;background-color: white;}#sk-container-id-1 pre{padding: 0;}#sk-container-id-1 div.sk-toggleable {background-color: white;}#sk-container-id-1 label.sk-toggleable__label {cursor: pointer;display: block;width: 100%;margin-bottom: 0;padding: 0.3em;box-sizing: border-box;text-align: center;}#sk-container-id-1 label.sk-toggleable__label-arrow:before {content: \"▸\";float: left;margin-right: 0.25em;color: #696969;}#sk-container-id-1 label.sk-toggleable__label-arrow:hover:before {color: black;}#sk-container-id-1 div.sk-estimator:hover label.sk-toggleable__label-arrow:before {color: black;}#sk-container-id-1 div.sk-toggleable__content {max-height: 0;max-width: 0;overflow: hidden;text-align: left;background-color: #f0f8ff;}#sk-container-id-1 div.sk-toggleable__content pre {margin: 0.2em;color: black;border-radius: 0.25em;background-color: #f0f8ff;}#sk-container-id-1 input.sk-toggleable__control:checked~div.sk-toggleable__content {max-height: 200px;max-width: 100%;overflow: auto;}#sk-container-id-1 input.sk-toggleable__control:checked~label.sk-toggleable__label-arrow:before {content: \"▾\";}#sk-container-id-1 div.sk-estimator input.sk-toggleable__control:checked~label.sk-toggleable__label {background-color: #d4ebff;}#sk-container-id-1 div.sk-label input.sk-toggleable__control:checked~label.sk-toggleable__label {background-color: #d4ebff;}#sk-container-id-1 input.sk-hidden--visually {border: 0;clip: rect(1px 1px 1px 1px);clip: rect(1px, 1px, 1px, 1px);height: 1px;margin: -1px;overflow: hidden;padding: 0;position: absolute;width: 1px;}#sk-container-id-1 div.sk-estimator {font-family: monospace;background-color: #f0f8ff;border: 1px dotted black;border-radius: 0.25em;box-sizing: border-box;margin-bottom: 0.5em;}#sk-container-id-1 div.sk-estimator:hover {background-color: #d4ebff;}#sk-container-id-1 div.sk-parallel-item::after {content: \"\";width: 100%;border-bottom: 1px solid gray;flex-grow: 1;}#sk-container-id-1 div.sk-label:hover label.sk-toggleable__label {background-color: #d4ebff;}#sk-container-id-1 div.sk-serial::before {content: \"\";position: absolute;border-left: 1px solid gray;box-sizing: border-box;top: 0;bottom: 0;left: 50%;z-index: 0;}#sk-container-id-1 div.sk-serial {display: flex;flex-direction: column;align-items: center;background-color: white;padding-right: 0.2em;padding-left: 0.2em;position: relative;}#sk-container-id-1 div.sk-item {position: relative;z-index: 1;}#sk-container-id-1 div.sk-parallel {display: flex;align-items: stretch;justify-content: center;background-color: white;position: relative;}#sk-container-id-1 div.sk-item::before, #sk-container-id-1 div.sk-parallel-item::before {content: \"\";position: absolute;border-left: 1px solid gray;box-sizing: border-box;top: 0;bottom: 0;left: 50%;z-index: -1;}#sk-container-id-1 div.sk-parallel-item {display: flex;flex-direction: column;z-index: 1;position: relative;background-color: white;}#sk-container-id-1 div.sk-parallel-item:first-child::after {align-self: flex-end;width: 50%;}#sk-container-id-1 div.sk-parallel-item:last-child::after {align-self: flex-start;width: 50%;}#sk-container-id-1 div.sk-parallel-item:only-child::after {width: 0;}#sk-container-id-1 div.sk-dashed-wrapped {border: 1px dashed gray;margin: 0 0.4em 0.5em 0.4em;box-sizing: border-box;padding-bottom: 0.4em;background-color: white;}#sk-container-id-1 div.sk-label label {font-family: monospace;font-weight: bold;display: inline-block;line-height: 1.2em;}#sk-container-id-1 div.sk-label-container {text-align: center;}#sk-container-id-1 div.sk-container {/* jupyter's `normalize.less` sets `[hidden] { display: none; }` but bootstrap.min.css set `[hidden] { display: none !important; }` so we also need the `!important` here to be able to override the default hidden behavior on the sphinx rendered scikit-learn.org. See: https://github.com/scikit-learn/scikit-learn/issues/21755 */display: inline-block !important;position: relative;}#sk-container-id-1 div.sk-text-repr-fallback {display: none;}</style><div id=\"sk-container-id-1\" class=\"sk-top-container\"><div class=\"sk-text-repr-fallback\"><pre>DecisionTreeClassifier(random_state=42)</pre><b>In a Jupyter environment, please rerun this cell to show the HTML representation or trust the notebook. <br />On GitHub, the HTML representation is unable to render, please try loading this page with nbviewer.org.</b></div><div class=\"sk-container\" hidden><div class=\"sk-item\"><div class=\"sk-estimator sk-toggleable\"><input class=\"sk-toggleable__control sk-hidden--visually\" id=\"sk-estimator-id-1\" type=\"checkbox\" checked><label for=\"sk-estimator-id-1\" class=\"sk-toggleable__label sk-toggleable__label-arrow\">DecisionTreeClassifier</label><div class=\"sk-toggleable__content\"><pre>DecisionTreeClassifier(random_state=42)</pre></div></div></div></div></div>"
            ]
          },
          "metadata": {},
          "execution_count": 21
        }
      ]
    },
    {
      "cell_type": "markdown",
      "source": [
        "sing the eval-subset to check the performance of the preliminary model (before class balancing)"
      ],
      "metadata": {
        "id": "rJOJ94AaABv_"
      }
    },
    {
      "cell_type": "code",
      "source": [
        "# Define X_eval_subset with only the top 10 features\n",
        "X_eval = eval_subset[top_features]\n",
        "\n",
        "# Define y_eval_subset\n",
        "y_eval = eval_subset['Class']\n",
        "\n",
        "# Predict the target values for the evaluation subset\n",
        "y_pred = decision_tree.predict(X_eval)\n",
        "\n",
        "# Generate classification report as a dictionary\n",
        "report_dict = classification_report(y_eval, y_pred, output_dict=True)\n",
        "\n",
        "# Compute balanced accuracy\n",
        "balancedAccuracy = balanced_accuracy_score(y_eval, y_pred)\n",
        "\n",
        "# Print overall scores\n",
        "print(\"Overall Scores:\")\n",
        "print(\"Accuracy:\", report_dict['accuracy'])\n",
        "print(\"Precision:\", report_dict['macro avg']['precision'])\n",
        "print(\"Recall:\", report_dict['macro avg']['recall'])\n",
        "print(\"F1-score:\", report_dict['macro avg']['f1-score'])\n",
        "print(\"Balanced Accuracy:\", balancedAccuracy)\n",
        "\n",
        "#-- the incorrectly high accuracy, low precision, low recall and low F1-score suggests a class imbalance"
      ],
      "metadata": {
        "colab": {
          "base_uri": "https://localhost:8080/"
        },
        "id": "INq3KAJR7QbR",
        "outputId": "9d2eb903-b066-47a6-d8cb-66fd405caf1f"
      },
      "execution_count": 22,
      "outputs": [
        {
          "output_type": "stream",
          "name": "stdout",
          "text": [
            "Overall Scores:\n",
            "Accuracy: 0.9780564263322884\n",
            "Precision: 0.5321274133625677\n",
            "Recall: 0.5246460776526655\n",
            "F1-score: 0.5277821834522866\n",
            "Balanced Accuracy: 0.5246460776526655\n"
          ]
        }
      ]
    },
    {
      "cell_type": "markdown",
      "source": [
        "# **Decision Tree with Class Balancing**\n",
        "\n",
        "This part looks at Decision tree modelling after performing class balancing.\n",
        "\n",
        "It will help determine the best Class balancing technique to use.\n",
        "\n",
        "Using a Decision Tree with different class balancing techniques to find the best best one.\n",
        "\n",
        "SMOTE was chosen as it has best balanced performance between F1 and balanced accuracy. These metrics are less affected by class imbalance."
      ],
      "metadata": {
        "id": "wF5VSftuvVsl"
      }
    },
    {
      "cell_type": "markdown",
      "source": [
        "Creating a Decison tree after class balancing using Under smapling.\n",
        "\n",
        "This can then be compared to the preliminary Decision tree to determine if there is any improvement in preformance."
      ],
      "metadata": {
        "id": "Bmxt9UKpwSNF"
      }
    },
    {
      "cell_type": "code",
      "execution_count": 23,
      "metadata": {
        "colab": {
          "base_uri": "https://localhost:8080/"
        },
        "id": "rSWoOrU1kMzx",
        "outputId": "68567e21-0554-4000-bd13-666baed7b966"
      },
      "outputs": [
        {
          "output_type": "stream",
          "name": "stdout",
          "text": [
            "Overall Scores:\n",
            "Accuracy: 0.6986677115987461\n",
            "Precision: 0.5107365727678116\n",
            "Recall: 0.6732116992944914\n",
            "F1-score: 0.4374541181906809\n",
            "Balanced Accuracy: 0.6732116992944914\n"
          ]
        },
        {
          "output_type": "execute_result",
          "data": {
            "text/plain": [
              "Class\n",
              "-1    92\n",
              " 1    92\n",
              "Name: count, dtype: int64"
            ]
          },
          "metadata": {},
          "execution_count": 23
        }
      ],
      "source": [
        "from imblearn.under_sampling import RandomUnderSampler\n",
        "\n",
        "# Initialize RandomUnderSampler\n",
        "undersampler = RandomUnderSampler(random_state=42)\n",
        "\n",
        "# Define your feature matrix (X) and target variable (y) for training_subset\n",
        "X_train_subset_us = train_subset.drop(columns=['Class', 'Info_cluster'])  # Features\n",
        "y_train_subset_us = train_subset['Class']  # Target variable\n",
        "\n",
        "# Perform under-sampling\n",
        "X_resampled_us, y_resampled_us = undersampler.fit_resample(X_train_subset_us, y_train_subset_us)\n",
        "\n",
        "# Convert back to DataFrame\n",
        "undersampled_df_us = pd.concat([pd.DataFrame(X_resampled_us, columns=X_train_subset_us.columns), pd.Series(y_resampled_us, name='Class')], axis=1)\n",
        "\n",
        "# Shuffle the dataset\n",
        "undersampled_df_us = undersampled_df_us.sample(frac=1, random_state=42).reset_index(drop=True)\n",
        "\n",
        "########################### Decision Tree using Undersampled data ##########################\n",
        "\n",
        "# Define X_train_subset with only the top 10 features from the undersampled data\n",
        "X_train_subset_us = undersampled_df_us[top_features]\n",
        "\n",
        "# Define y_train_subset from the undersampled data\n",
        "y_train_subset_us = undersampled_df_us['Class']\n",
        "\n",
        "# Instantiate the DecisionTreeClassifier\n",
        "decision_tree_us = DecisionTreeClassifier(random_state=42)\n",
        "\n",
        "# Fit the decision tree to the training subset data\n",
        "decision_tree_us.fit(X_train_subset_us, y_train_subset_us)\n",
        "\n",
        "\n",
        "################################## Checking performance using evaluation_training dataset #####################\n",
        "\n",
        "# Define X_eval with only the top 10 features from the evaluation_subset\n",
        "X_eval_us = eval_subset[top_features]\n",
        "\n",
        "# Define y_eval from the evaluation_subset\n",
        "y_eval_us = eval_subset['Class']\n",
        "\n",
        "# Make predictions on the evaluation data using the decision tree model\n",
        "y_pred_us = decision_tree_us.predict(X_eval_us)\n",
        "\n",
        "\n",
        "# Generate classification report as a dictionary\n",
        "report_dict = classification_report(y_eval_us, y_pred_us, output_dict=True)\n",
        "\n",
        "# Compute balanced accuracy\n",
        "balancedAccuracy = balanced_accuracy_score(y_eval_us, y_pred_us)\n",
        "\n",
        "# Print overall scores\n",
        "print(\"Overall Scores:\")\n",
        "print(\"Accuracy:\", report_dict['accuracy'])\n",
        "print(\"Precision:\", report_dict['macro avg']['precision'])\n",
        "print(\"Recall:\", report_dict['macro avg']['recall'])\n",
        "print(\"F1-score:\", report_dict['macro avg']['f1-score'])\n",
        "print(\"Balanced Accuracy:\", balancedAccuracy)\n",
        "\n",
        "# Count the number of samples in each class\n",
        "class_counts = undersampled_df_us['Class'].value_counts()\n",
        "\n",
        "class_counts"
      ]
    },
    {
      "cell_type": "markdown",
      "source": [
        "Creating a Decison tree after class balancing using Over smapling.\n",
        "\n",
        "This can then be compared to the preliminary Decision tree to determine if there is any improvement in preformance."
      ],
      "metadata": {
        "id": "IOAoB_ZMBz9w"
      }
    },
    {
      "cell_type": "code",
      "execution_count": 24,
      "metadata": {
        "colab": {
          "base_uri": "https://localhost:8080/"
        },
        "id": "v-5AN5c30JQN",
        "outputId": "af44c865-df38-4146-c732-f5b2c41b45a8"
      },
      "outputs": [
        {
          "output_type": "stream",
          "name": "stdout",
          "text": [
            "Overall Scores:\n",
            "Accuracy: 0.9760971786833855\n",
            "Precision: 0.5259113766938363\n",
            "Recall: 0.5236532261832453\n",
            "F1-score: 0.5247164425175935\n",
            "Balanced Accuracy: 0.5236532261832453\n"
          ]
        },
        {
          "output_type": "execute_result",
          "data": {
            "text/plain": [
              "Class\n",
              "-1    7221\n",
              " 1    7221\n",
              "Name: count, dtype: int64"
            ]
          },
          "metadata": {},
          "execution_count": 24
        }
      ],
      "source": [
        "from imblearn.over_sampling import RandomOverSampler\n",
        "# Initialize RandomOverSampler\n",
        "oversampler = RandomOverSampler(random_state=42)\n",
        "\n",
        "# Define your feature matrix (X) and target variable (y) for training_subset\n",
        "X_train_subset_os = train_subset.drop(columns=['Class', 'Info_cluster'])  # Features\n",
        "y_train_subset_os = train_subset['Class']  # Target variable\n",
        "\n",
        "# Perform oversampling\n",
        "X_resampled_os, y_resampled_os = oversampler.fit_resample(X_train_subset_os, y_train_subset_os)\n",
        "\n",
        "# Convert back to DataFrame\n",
        "oversampled_df_os = pd.concat([pd.DataFrame(X_resampled_os, columns=X_train_subset_os.columns), pd.Series(y_resampled_os, name='Class')], axis=1)\n",
        "\n",
        "# Shuffle the dataset\n",
        "oversampled_df_os = oversampled_df_os.sample(frac=1, random_state=42).reset_index(drop=True)\n",
        "\n",
        "########################### Decision Tree using Oversampled data ##########################\n",
        "\n",
        "# Define X_train_subset with only the top 10 features from the oversampled data\n",
        "X_train_subset_os = oversampled_df_os[top_features]\n",
        "\n",
        "# Define y_train_subset from the oversampled data\n",
        "y_train_subset_os = oversampled_df_os['Class']\n",
        "\n",
        "# Instantiate the DecisionTreeClassifier\n",
        "decision_tree_os = DecisionTreeClassifier(random_state=42)\n",
        "\n",
        "# Fit the decision tree to the training subset data\n",
        "decision_tree_os.fit(X_train_subset_os, y_train_subset_os)\n",
        "\n",
        "\n",
        "################################## Checking performance using evaluation_training dataset #####################\n",
        "\n",
        "# Define X_eval with only the top 10 features from the evaluation_subset\n",
        "X_eval_os = eval_subset[top_features]\n",
        "\n",
        "# Define y_eval from the evaluation_subset\n",
        "y_eval_os = eval_subset['Class']\n",
        "\n",
        "# Make predictions on the evaluation data using the decision tree model\n",
        "y_pred_os = decision_tree_os.predict(X_eval_os)\n",
        "\n",
        "\n",
        "# Generate classification report as a dictionary\n",
        "report_dict = classification_report(y_eval_os, y_pred_os, output_dict=True)\n",
        "\n",
        "# Compute balanced accuracy\n",
        "balancedAccuracy = balanced_accuracy_score(y_eval_os, y_pred_os)\n",
        "\n",
        "# Print overall scores\n",
        "print(\"Overall Scores:\")\n",
        "print(\"Accuracy:\", report_dict['accuracy'])\n",
        "print(\"Precision:\", report_dict['macro avg']['precision'])\n",
        "print(\"Recall:\", report_dict['macro avg']['recall'])\n",
        "print(\"F1-score:\", report_dict['macro avg']['f1-score'])\n",
        "print(\"Balanced Accuracy:\", balancedAccuracy)\n",
        "\n",
        "# Count the number of samples in each class\n",
        "class_counts = oversampled_df_os['Class'].value_counts()\n",
        "\n",
        "class_counts"
      ]
    },
    {
      "cell_type": "markdown",
      "source": [
        "Creating a Decison tree after class balancing using cost sensitive classification.\n",
        "\n",
        "This can then be compared to the preliminary Decision tree to determine if there is any improvement in preformance."
      ],
      "metadata": {
        "id": "I2NjXIWdB50h"
      }
    },
    {
      "cell_type": "code",
      "execution_count": 25,
      "metadata": {
        "colab": {
          "base_uri": "https://localhost:8080/"
        },
        "id": "1JHs8zzkLQ3o",
        "outputId": "68b383b5-6a2c-468f-8906-1932f2423c41"
      },
      "outputs": [
        {
          "output_type": "stream",
          "name": "stdout",
          "text": [
            "Overall Scores:\n",
            "Accuracy: 0.9753134796238244\n",
            "Precision: 0.5239513034272859\n",
            "Recall: 0.5232560855954772\n",
            "F1-score: 0.5235970238148151\n",
            "Balanced Accuracy: 0.5232560855954772\n"
          ]
        }
      ],
      "source": [
        "from sklearn.tree import DecisionTreeClassifier\n",
        "from sklearn.metrics import classification_report\n",
        "from sklearn.utils.class_weight import compute_class_weight\n",
        "\n",
        "# Assume training_subset and eval_subset are already loaded\n",
        "# Assume top_features is a list containing the names of the top features\n",
        "\n",
        "# Separate features (X_train) and target variable (y_train) for training subset\n",
        "X_train = train_subset[top_features]\n",
        "y_train = train_subset['Class']\n",
        "\n",
        "# Compute class weights to handle class imbalance\n",
        "class_weights = compute_class_weight('balanced', classes=np.unique(y_train), y=y_train)\n",
        "\n",
        "# Initialize DecisionTreeClassifier with class weights\n",
        "# You can adjust other hyperparameters as needed\n",
        "decision_tree = DecisionTreeClassifier(class_weight=dict(zip(np.unique(y_train), class_weights)))\n",
        "\n",
        "# Fit the decision tree classifier to the training data\n",
        "decision_tree.fit(X_train, y_train)\n",
        "\n",
        "# Separate features (X_eval) and target variable (y_eval) for evaluation subset\n",
        "X_eval = eval_subset[top_features]\n",
        "y_eval = eval_subset['Class']\n",
        "\n",
        "# Predict the target values for the evaluation subset\n",
        "y_pred = decision_tree.predict(X_eval)\n",
        "\n",
        "\n",
        "# Generate classification report as a dictionary\n",
        "report_dict = classification_report(y_eval, y_pred, output_dict=True)\n",
        "\n",
        "# Compute balanced accuracy\n",
        "balancedAccuracy = balanced_accuracy_score(y_eval, y_pred)\n",
        "\n",
        "# Print overall scores\n",
        "print(\"Overall Scores:\")\n",
        "print(\"Accuracy:\", report_dict['accuracy'])\n",
        "print(\"Precision:\", report_dict['macro avg']['precision'])\n",
        "print(\"Recall:\", report_dict['macro avg']['recall'])\n",
        "print(\"F1-score:\", report_dict['macro avg']['f1-score'])\n",
        "print(\"Balanced Accuracy:\", balancedAccuracy)\n"
      ]
    },
    {
      "cell_type": "markdown",
      "source": [
        "Creating a Decison tree after class balancing using SMOTE.\n",
        "\n",
        "This can then be compared to the preliminary Decision tree to determine if there is any improvement in preformance between different class balancing techniques."
      ],
      "metadata": {
        "id": "0WGKA_MECDb7"
      }
    },
    {
      "cell_type": "code",
      "source": [
        "from imblearn.over_sampling import SMOTE\n",
        "\n",
        "# Initialize SMOTE\n",
        "smote = SMOTE(random_state=42)\n",
        "\n",
        "# Define your feature matrix (X) and target variable (y) for training_subset\n",
        "X_train_subset = train_subset.drop(columns=['Class', 'Info_cluster'])  # Features\n",
        "y_train_subset = train_subset['Class']  # Target variable\n",
        "\n",
        "# Perform SMOTE over-sampling\n",
        "X_resampled, y_resampled = smote.fit_resample(X_train_subset, y_train_subset)\n",
        "\n",
        "# Convert back to DataFrame\n",
        "oversampled_df = pd.concat([pd.DataFrame(X_resampled, columns=X_train_subset.columns), pd.Series(y_resampled, name='Class')], axis=1)\n",
        "\n",
        "########################### Decision Tree using Oversampled data ##########################\n",
        "\n",
        "# Define X_train_subset with only the top 10 features from the oversampled data\n",
        "X_train_subset = oversampled_df[top_features]\n",
        "\n",
        "# Define y_train_subset from the oversampled data\n",
        "y_train_subset = oversampled_df['Class']\n",
        "\n",
        "# Instantiate the DecisionTreeClassifier\n",
        "decision_tree = DecisionTreeClassifier(random_state=42)\n",
        "\n",
        "# Fit the decision tree to the training subset data\n",
        "decision_tree.fit(X_train_subset, y_train_subset)\n",
        "\n",
        "\n",
        "################################## Checking performance using evaluation_training dataset #####################\n",
        "\n",
        "# Define X_eval with only the top 10 features from the evaluation_subset\n",
        "X_eval = eval_subset[top_features]\n",
        "\n",
        "# Define y_eval from the evaluation_subset\n",
        "y_eval = eval_subset['Class']\n",
        "\n",
        "# Make predictions on the evaluation data using the decision tree model\n",
        "y_pred = decision_tree.predict(X_eval)\n",
        "\n",
        "\n",
        "# Generate classification report as a dictionary\n",
        "report_dict = classification_report(y_eval_os, y_pred_os, output_dict=True)\n",
        "\n",
        "# Compute balanced accuracy\n",
        "balancedAccuracy = balanced_accuracy_score(y_eval, y_pred)\n",
        "\n",
        "# Print overall scores\n",
        "print(\"Overall Scores:\")\n",
        "print(\"Accuracy:\", report_dict['accuracy'])\n",
        "print(\"Precision:\", report_dict['macro avg']['precision'])\n",
        "print(\"Recall:\", report_dict['macro avg']['recall'])\n",
        "print(\"F1-score:\", report_dict['macro avg']['f1-score'])\n",
        "print(\"Balanced Accuracy:\", balancedAccuracy)"
      ],
      "metadata": {
        "colab": {
          "base_uri": "https://localhost:8080/"
        },
        "id": "Qdux9smMz3vw",
        "outputId": "db056bb9-89b0-45cb-f279-d0b53e1d2095"
      },
      "execution_count": 26,
      "outputs": [
        {
          "output_type": "stream",
          "name": "stdout",
          "text": [
            "Overall Scores:\n",
            "Accuracy: 0.9760971786833855\n",
            "Precision: 0.5259113766938363\n",
            "Recall: 0.5236532261832453\n",
            "F1-score: 0.5247164425175935\n",
            "Balanced Accuracy: 0.53201653973742\n"
          ]
        }
      ]
    },
    {
      "cell_type": "markdown",
      "source": [
        "# **Random Forest Modelling**\n",
        "\n",
        "This section looks at modelling the Train susbset using a random forest with different class balancing\n",
        "balancing.\n",
        "\n",
        "This is done to try and improve the performance of the model.\n",
        "\n",
        "Random forest are resilent to class imbalance and are non-parametric models so have no presumption of the underlying data structure. This may lead to better performance compared to a decision tree.\n",
        "\n"
      ],
      "metadata": {
        "id": "d8vea0Vqwy3F"
      }
    },
    {
      "cell_type": "code",
      "execution_count": 27,
      "metadata": {
        "colab": {
          "base_uri": "https://localhost:8080/"
        },
        "id": "wVBir0T4_dA0",
        "outputId": "3c911293-d6a9-4e95-f84e-f7033b8e0a16"
      },
      "outputs": [
        {
          "output_type": "stream",
          "name": "stdout",
          "text": [
            "Overall Scores:\n",
            "Accuracy: 0.8405172413793104\n",
            "Precision: 0.519611319266641\n",
            "Recall: 0.7015722095033406\n",
            "F1-score: 0.49901772816175527\n",
            "Balanced Accuracy: 0.7015722095033406\n"
          ]
        }
      ],
      "source": [
        "from sklearn.ensemble import RandomForestClassifier\n",
        "from imblearn.under_sampling import RandomUnderSampler\n",
        "from sklearn.metrics import classification_report, balanced_accuracy_score\n",
        "import pandas as pd\n",
        "\n",
        "# Initialize RandomUnderSampler\n",
        "undersampler = RandomUnderSampler(random_state=42)\n",
        "\n",
        "# Define your feature matrix (X) and target variable (y) for training_subset\n",
        "X_train_subset = train_subset.drop(columns=['Class', 'Info_cluster'])  # Features\n",
        "y_train_subset = train_subset['Class']  # Target variable\n",
        "\n",
        "# Perform undersampling\n",
        "X_resampled, y_resampled = undersampler.fit_resample(X_train_subset, y_train_subset)\n",
        "\n",
        "# Convert back to DataFrame\n",
        "undersampled_df = pd.concat([pd.DataFrame(X_resampled, columns=X_train_subset.columns), pd.Series(y_resampled, name='Class')], axis=1)\n",
        "\n",
        "########################### New Random Forest using Undersampled data ##########################\n",
        "\n",
        "# Define X_train_subset with only the top 10 features from the undersampled data\n",
        "X_train_subset = undersampled_df[top_features]\n",
        "\n",
        "# Define y_train_subset from the undersampled data\n",
        "y_train_subset = undersampled_df['Class']\n",
        "\n",
        "# Instantiate the RandomForestClassifier\n",
        "random_forest = RandomForestClassifier(random_state=42)\n",
        "\n",
        "# Fit the random forest to the training subset data\n",
        "random_forest.fit(X_train_subset, y_train_subset)\n",
        "\n",
        "################################## Checking performance using evaluation_training dataset #####################\n",
        "\n",
        "# Define X_eval with only the top 10 features from the evaluation_subset\n",
        "X_eval = eval_subset[top_features]\n",
        "\n",
        "# Define y_eval from the evaluation_subset\n",
        "y_eval = eval_subset['Class']\n",
        "\n",
        "# Make predictions on the evaluation data using the random forest model\n",
        "y_pred = random_forest.predict(X_eval)\n",
        "\n",
        "# Generate classification report as a dictionary\n",
        "report_dict = classification_report(y_eval, y_pred, output_dict=True)\n",
        "\n",
        "# Compute balanced accuracy\n",
        "balancedAccuracy = balanced_accuracy_score(y_eval, y_pred)\n",
        "\n",
        "# Print overall scores\n",
        "print(\"Overall Scores:\")\n",
        "print(\"Accuracy:\", report_dict['accuracy'])\n",
        "print(\"Precision:\", report_dict['macro avg']['precision'])\n",
        "print(\"Recall:\", report_dict['macro avg']['recall'])\n",
        "print(\"F1-score:\", report_dict['macro avg']['f1-score'])\n",
        "print(\"Balanced Accuracy:\", balancedAccuracy)\n"
      ]
    },
    {
      "cell_type": "code",
      "execution_count": 28,
      "metadata": {
        "colab": {
          "base_uri": "https://localhost:8080/"
        },
        "id": "m1-yrA7IOLEE",
        "outputId": "c65fd9a0-ea2f-4639-b36b-067e3076bfc8"
      },
      "outputs": [
        {
          "output_type": "stream",
          "name": "stdout",
          "text": [
            "Overall Scores:\n",
            "Accuracy: 0.6986677115987461\n",
            "Precision: 0.5107365727678116\n",
            "Recall: 0.6732116992944914\n",
            "F1-score: 0.4374541181906809\n",
            "Balanced Accuracy: 0.6732116992944914\n"
          ]
        }
      ],
      "source": [
        "from sklearn.ensemble import RandomForestClassifier\n",
        "from imblearn.over_sampling import SMOTE\n",
        "from sklearn.metrics import classification_report\n",
        "import pandas as pd\n",
        "\n",
        "# Initialize SMOTE\n",
        "smote = SMOTE(random_state=42)\n",
        "\n",
        "# Define your feature matrix (X) and target variable (y) for training_subset\n",
        "X_train_subset = train_subset.drop(columns=['Class', 'Info_cluster'])  # Features\n",
        "y_train_subset = train_subset['Class']  # Target variable\n",
        "\n",
        "# Perform SMOTE over-sampling\n",
        "X_resampled, y_resampled = smote.fit_resample(X_train_subset, y_train_subset)\n",
        "\n",
        "# Convert back to DataFrame\n",
        "oversampled_df = pd.concat([pd.DataFrame(X_resampled, columns=X_train_subset.columns), pd.Series(y_resampled, name='Class')], axis=1)\n",
        "\n",
        "# Shuffle the dataset (if necessary)\n",
        "# oversampled_df = oversampled_df.sample(frac=1, random_state=42).reset_index(drop=True)\n",
        "\n",
        "########################### New Random Forest using Oversampled data ##########################\n",
        "\n",
        "# Define X_train_subset with only the top 10 features from the oversampled data\n",
        "X_train_subset = oversampled_df[top_features]\n",
        "\n",
        "# Define y_train_subset from the oversampled data\n",
        "y_train_subset = oversampled_df['Class']\n",
        "\n",
        "# Instantiate the RandomForestClassifier\n",
        "random_forest = RandomForestClassifier(random_state=42)\n",
        "\n",
        "# Fit the random forest to the training subset data\n",
        "random_forest.fit(X_train_subset, y_train_subset)\n",
        "\n",
        "################################## Checking performance using evaluation_training dataset #####################\n",
        "\n",
        "# Define X_eval with only the top 10 features from the evaluation_subset\n",
        "X_eval = eval_subset[top_features]\n",
        "\n",
        "# Define y_eval from the evaluation_subset\n",
        "y_eval = eval_subset['Class']\n",
        "\n",
        "# Make predictions on the evaluation data using the random forest model\n",
        "y_pred = random_forest.predict(X_eval)\n",
        "\n",
        "\n",
        "# Generate classification report as a dictionary\n",
        "report_dict = classification_report(y_eval_us, y_pred_us, output_dict=True)\n",
        "\n",
        "# Compute balanced accuracy\n",
        "balancedAccuracy = balanced_accuracy_score(y_eval_us, y_pred_us)\n",
        "\n",
        "# Print overall scores\n",
        "print(\"Overall Scores:\")\n",
        "print(\"Accuracy:\", report_dict['accuracy'])\n",
        "print(\"Precision:\", report_dict['macro avg']['precision'])\n",
        "print(\"Recall:\", report_dict['macro avg']['recall'])\n",
        "print(\"F1-score:\", report_dict['macro avg']['f1-score'])\n",
        "print(\"Balanced Accuracy:\", balancedAccuracy)\n"
      ]
    },
    {
      "cell_type": "code",
      "source": [],
      "metadata": {
        "id": "IkSyt7w7VQHO"
      },
      "execution_count": 28,
      "outputs": []
    },
    {
      "cell_type": "markdown",
      "source": [
        "# **Further Modelling**\n",
        "This Section looks at other modelling teachniques that can be used for Binary classificaiton.\n",
        "\n",
        "Models: Support Vector Machine (SVM), Logistic Regression and a Multilayer Perceptron (MLP).\n",
        "\n",
        "(Note: please change the Runtime to GPU - the use of a hardware accelerator allows for faster training of the Nueral Network)"
      ],
      "metadata": {
        "id": "v-Gt6z8B0Jcx"
      }
    },
    {
      "cell_type": "markdown",
      "source": [
        "Support Vector Machine using SMOTE"
      ],
      "metadata": {
        "id": "qJt6WBkcA2bf"
      }
    },
    {
      "cell_type": "code",
      "source": [
        "from sklearn.svm import SVC\n",
        "from imblearn.over_sampling import SMOTE\n",
        "from sklearn.metrics import classification_report\n",
        "import pandas as pd\n",
        "\n",
        "# Initialize SMOTE\n",
        "smote = SMOTE(random_state=42)\n",
        "\n",
        "# Define your feature matrix (X) and target variable (y) for training_subset\n",
        "X_train_subset = train_subset.drop(columns=['Class', 'Info_cluster'])  # Features\n",
        "y_train_subset = train_subset['Class']  # Target variable\n",
        "\n",
        "# Perform SMOTE over-sampling\n",
        "X_resampled, y_resampled = smote.fit_resample(X_train_subset, y_train_subset)\n",
        "\n",
        "# Convert back to DataFrame\n",
        "oversampled_df = pd.concat([pd.DataFrame(X_resampled, columns=X_train_subset.columns), pd.Series(y_resampled, name='Class')], axis=1)\n",
        "\n",
        "# Shuffle the dataset (if necessary)\n",
        "# oversampled_df = oversampled_df.sample(frac=1, random_state=42).reset_index(drop=True)\n",
        "\n",
        "########################### New SVM using Oversampled data ##########################\n",
        "\n",
        "# Define X_train_subset with only the top 10 features from the oversampled data\n",
        "X_train_subset = oversampled_df[top_features]\n",
        "\n",
        "# Define y_train_subset from the oversampled data\n",
        "y_train_subset = oversampled_df['Class']\n",
        "\n",
        "# Instantiate the SVM classifier\n",
        "svm_classifier = SVC(random_state=42)\n",
        "\n",
        "# Fit the SVM classifier to the training subset data\n",
        "svm_classifier.fit(X_train_subset, y_train_subset)\n",
        "\n",
        "################################## Checking performance using evaluation_training dataset #####################\n",
        "\n",
        "# Define X_eval with only the top 10 features from the evaluation_subset\n",
        "X_eval = eval_subset[top_features]\n",
        "\n",
        "# Define y_eval from the evaluation_subset\n",
        "y_eval = eval_subset['Class']\n",
        "\n",
        "# Make predictions on the evaluation data using the SVM classifier\n",
        "y_pred = svm_classifier.predict(X_eval)\n",
        "\n",
        "# Generate classification report as a dictionary\n",
        "report_dict = classification_report(y_eval, y_pred, output_dict=True)\n",
        "\n",
        "# Compute balanced accuracy\n",
        "balancedAccuracy = balanced_accuracy_score(y_eval, y_pred)\n",
        "\n",
        "# Print overall scores\n",
        "print(\"Overall Scores:\")\n",
        "print(\"Accuracy:\", report_dict['accuracy'])\n",
        "print(\"Precision:\", report_dict['macro avg']['precision'])\n",
        "print(\"Recall:\", report_dict['macro avg']['recall'])\n",
        "print(\"F1-score:\", report_dict['macro avg']['f1-score'])\n",
        "print(\"Balanced Accuracy:\", balancedAccuracy)"
      ],
      "metadata": {
        "colab": {
          "base_uri": "https://localhost:8080/"
        },
        "id": "pGsJ0LOrstJy",
        "outputId": "ab31899c-ea03-4234-9609-829d01f35b51"
      },
      "execution_count": 29,
      "outputs": [
        {
          "output_type": "stream",
          "name": "stdout",
          "text": [
            "Overall Scores:\n",
            "Accuracy: 0.8804858934169278\n",
            "Precision: 0.506325695137712\n",
            "Recall: 0.5477386347708265\n",
            "F1-score: 0.490073145245559\n",
            "Balanced Accuracy: 0.5477386347708265\n"
          ]
        }
      ]
    },
    {
      "cell_type": "markdown",
      "source": [
        "MultiLayer Perception (Nueral Network) using SMOTE\n",
        "\n",
        "For better performance set GPU as Run time accelerator\n",
        "(In Google Colab - this can be done by clicking on: \"Runtime\" Tab, then \"change runtime type\" and selecting \"T4 GPU\""
      ],
      "metadata": {
        "id": "ShR9Og48BFQf"
      }
    },
    {
      "cell_type": "code",
      "execution_count": 30,
      "metadata": {
        "colab": {
          "base_uri": "https://localhost:8080/"
        },
        "id": "Wbk1lfWWDka0",
        "outputId": "5e8324d9-fd7a-4ea1-9047-0335b5d40574"
      },
      "outputs": [
        {
          "output_type": "stream",
          "name": "stdout",
          "text": [
            "Overall Scores:\n",
            "Accuracy: 0.6986677115987461\n",
            "Precision: 0.5107365727678116\n",
            "Recall: 0.6732116992944914\n",
            "F1-score: 0.4374541181906809\n",
            "Balanced Accuracy: 0.6732116992944914\n"
          ]
        },
        {
          "output_type": "stream",
          "name": "stderr",
          "text": [
            "/usr/local/lib/python3.10/dist-packages/sklearn/neural_network/_multilayer_perceptron.py:693: UserWarning: Training interrupted by user.\n",
            "  warnings.warn(\"Training interrupted by user.\")\n"
          ]
        }
      ],
      "source": [
        "from imblearn.over_sampling import RandomOverSampler\n",
        "from sklearn.neural_network import MLPClassifier\n",
        "from sklearn.metrics import accuracy_score, precision_score, recall_score, f1_score\n",
        "\n",
        "# Initialize RandomOverSampler\n",
        "oversampler = RandomOverSampler(random_state=42)\n",
        "\n",
        "# Define your feature matrix (X) and target variable (y) for training_subset\n",
        "X_train_subset = train_subset.drop(columns=['Class', 'Info_cluster'])  # Features\n",
        "y_train_subset = train_subset['Class']  # Target variable\n",
        "\n",
        "# Perform oversampling\n",
        "X_resampled, y_resampled = oversampler.fit_resample(X_train_subset, y_train_subset)\n",
        "\n",
        "# Convert back to DataFrame\n",
        "oversampled_df = pd.concat([pd.DataFrame(X_resampled, columns=X_train_subset.columns), pd.Series(y_resampled, name='Class')], axis=1)\n",
        "\n",
        "# Shuffle the dataset\n",
        "oversampled_df = oversampled_df.sample(frac=1, random_state=42).reset_index(drop=True)\n",
        "\n",
        "########################### Neural Network using Oversampled data ##########################\n",
        "\n",
        "# Define X_train_subset with only the top 10 features from the oversampled data\n",
        "X_train_subset = oversampled_df[top_features]\n",
        "\n",
        "# Define y_train_subset from the oversampled data\n",
        "y_train_subset = oversampled_df['Class']\n",
        "\n",
        "# Instantiate the MLPClassifier (Neural Network)\n",
        "neural_network = MLPClassifier(hidden_layer_sizes=(100,),  # One hidden layer with 100 neurons\n",
        "                               activation='relu',  # Activation function\n",
        "                               solver='adam',  # Optimization algorithm\n",
        "                               alpha=0.0001,  # L2 regularization parameter\n",
        "                               batch_size='auto',  # Number of samples per batch\n",
        "                               learning_rate='constant',  # Learning rate schedule\n",
        "                               learning_rate_init=0.001,  # Initial learning rate\n",
        "                               max_iter=1000,  # Maximum number of iterations\n",
        "                               random_state=42)\n",
        "\n",
        "\n",
        "# Fit the neural network to the training subset data\n",
        "neural_network.fit(X_train_subset, y_train_subset)\n",
        "\n",
        "\n",
        "################################## Checking performance using evaluation_training dataset #####################\n",
        "\n",
        "# Define X_eval with only the top 10 features from the evaluation_subset\n",
        "X_eval = eval_subset[top_features]\n",
        "\n",
        "# Define y_eval from the evaluation_subset\n",
        "y_eval = eval_subset['Class']\n",
        "\n",
        "# Make predictions on the evaluation data using the neural network model\n",
        "y_pred = neural_network.predict(X_eval)\n",
        "\n",
        "# Generate classification report as a dictionary\n",
        "report_dict = classification_report(y_eval_us, y_pred_us, output_dict=True)\n",
        "\n",
        "# Compute balanced accuracy\n",
        "balancedAccuracy = balanced_accuracy_score(y_eval_us, y_pred_us)\n",
        "\n",
        "# Print overall scores\n",
        "print(\"Overall Scores:\")\n",
        "print(\"Accuracy:\", report_dict['accuracy'])\n",
        "print(\"Precision:\", report_dict['macro avg']['precision'])\n",
        "print(\"Recall:\", report_dict['macro avg']['recall'])\n",
        "print(\"F1-score:\", report_dict['macro avg']['f1-score'])\n",
        "print(\"Balanced Accuracy:\", balancedAccuracy)"
      ]
    },
    {
      "cell_type": "markdown",
      "source": [
        "Logistic Regression using SMOTE"
      ],
      "metadata": {
        "id": "w7cpwoWAA_ni"
      }
    },
    {
      "cell_type": "code",
      "source": [
        "from sklearn.linear_model import LogisticRegression\n",
        "from imblearn.over_sampling import SMOTE\n",
        "from sklearn.metrics import classification_report\n",
        "import pandas as pd\n",
        "\n",
        "# Initialize SMOTE\n",
        "smote = SMOTE(random_state=42)\n",
        "\n",
        "# Define your feature matrix (X) and target variable (y) for training_subset\n",
        "X_train_subset = train_subset.drop(columns=['Class', 'Info_cluster'])  # Features\n",
        "y_train_subset = train_subset['Class']  # Target variable\n",
        "\n",
        "# Perform SMOTE over-sampling\n",
        "X_resampled, y_resampled = smote.fit_resample(X_train_subset, y_train_subset)\n",
        "\n",
        "# Convert back to DataFrame\n",
        "oversampled_df = pd.concat([pd.DataFrame(X_resampled, columns=X_train_subset.columns), pd.Series(y_resampled, name='Class')], axis=1)\n",
        "\n",
        "# Shuffle the dataset (if necessary)\n",
        "# oversampled_df = oversampled_df.sample(frac=1, random_state=42).reset_index(drop=True)\n",
        "\n",
        "########################### Logistic Regression using Oversampled data ##########################\n",
        "\n",
        "# Define X_train_subset with only the top 10 features from the oversampled data\n",
        "X_train_subset = oversampled_df[top_features]\n",
        "\n",
        "# Define y_train_subset from the oversampled data\n",
        "y_train_subset = oversampled_df['Class']\n",
        "\n",
        "# Instantiate the Logistic Regression classifier\n",
        "logistic_regression = LogisticRegression(random_state=42)\n",
        "\n",
        "# Fit the Logistic Regression classifier to the training subset data\n",
        "logistic_regression.fit(X_train_subset, y_train_subset)\n",
        "\n",
        "################################## Checking performance using evaluation_training dataset #####################\n",
        "\n",
        "# Define X_eval with only the top 10 features from the evaluation_subset\n",
        "X_eval = eval_subset[top_features]\n",
        "\n",
        "# Define y_eval from the evaluation_subset\n",
        "y_eval = eval_subset['Class']\n",
        "\n",
        "# Make predictions on the evaluation data using the Logistic Regression classifier\n",
        "y_pred = logistic_regression.predict(X_eval)\n",
        "\n",
        "# Generate classification report as a dictionary\n",
        "report_dict = classification_report(y_eval, y_pred, output_dict=True)\n",
        "\n",
        "# Compute balanced accuracy\n",
        "balancedAccuracy = balanced_accuracy_score(y_eval, y_pred)\n",
        "\n",
        "# Print overall scores\n",
        "print(\"Overall Scores:\")\n",
        "print(\"Accuracy:\", report_dict['accuracy'])\n",
        "print(\"Precision:\", report_dict['macro avg']['precision'])\n",
        "print(\"Recall:\", report_dict['macro avg']['recall'])\n",
        "print(\"F1-score:\", report_dict['macro avg']['f1-score'])\n",
        "print(\"Balanced Accuracy:\", balancedAccuracy)"
      ],
      "metadata": {
        "colab": {
          "base_uri": "https://localhost:8080/"
        },
        "id": "M45i4gtxs3eQ",
        "outputId": "8799d2e0-0ba4-49d6-de32-c31d54d0df4f"
      },
      "execution_count": 31,
      "outputs": [
        {
          "output_type": "stream",
          "name": "stdout",
          "text": [
            "Overall Scores:\n",
            "Accuracy: 0.8303291536050157\n",
            "Precision: 0.5269209783958858\n",
            "Recall: 0.7979605662757557\n",
            "F1-score: 0.5067366301895131\n",
            "Balanced Accuracy: 0.7979605662757557\n"
          ]
        }
      ]
    },
    {
      "cell_type": "markdown",
      "source": [
        "Using SMOTE, Logistic Regression has the best balance Accuracy and F1 score from all the models."
      ],
      "metadata": {
        "id": "ZY-9suDtTveV"
      }
    },
    {
      "cell_type": "markdown",
      "source": [
        "## **Modelling Summary - steps carried out**\n",
        "\n",
        "1) preliminary Modelling is preformed using a decison tree - this was before class balancing was preformed to test intial preformance\n",
        "\n",
        "2) Different class balancing techniques were used with a decision tree to identify the best class balance method for the data set. SMOTE was chosen as it was identifed as the best one - as it had the best score for F1 and balanced accuray metric. Undersampling was the second best.\n",
        "\n",
        "3) Random forest was then used with both undersampling and SMOTE. This was done to see if there was an improvement in performacne as Random forests are resistant to class imbalance.\n",
        "\n",
        "4) Support vector machine, Logistic Regression and a Neural Network were also trained to determine if these would lead to better performance. The F1 and balaced accuracy was compared across all models (after the dataset was treated with SMOTE). The Logistic Regression showed the best performance."
      ],
      "metadata": {
        "id": "xg6Y63YaCnit"
      }
    },
    {
      "cell_type": "markdown",
      "source": [
        "# **Hyperparameter Tuning**"
      ],
      "metadata": {
        "id": "Q0aQJo1cyXFK"
      }
    },
    {
      "cell_type": "markdown",
      "source": [
        "Hyperparameter tuning of the Logistic Regression model - it had the best performance. Hyperparameter tuning was carried out in attempt to further improve the preformance the model."
      ],
      "metadata": {
        "id": "Ana3nsvxEvxn"
      }
    },
    {
      "cell_type": "code",
      "source": [
        "from sklearn.linear_model import LogisticRegression\n",
        "from imblearn.over_sampling import SMOTE\n",
        "from sklearn.metrics import classification_report, balanced_accuracy_score\n",
        "from sklearn.model_selection import GridSearchCV\n",
        "import pandas as pd\n",
        "\n",
        "# Initialize SMOTE\n",
        "smote = SMOTE(random_state=42)\n",
        "\n",
        "# Define your feature matrix (X) and target variable (y) for training_subset\n",
        "X_train_subset = train_subset.drop(columns=['Class', 'Info_cluster'])  # Features\n",
        "y_train_subset = train_subset['Class']  # Target variable\n",
        "\n",
        "# Perform SMOTE over-sampling\n",
        "X_resampled, y_resampled = smote.fit_resample(X_train_subset, y_train_subset)\n",
        "\n",
        "# Convert back to DataFrame\n",
        "oversampled_df = pd.concat([pd.DataFrame(X_resampled, columns=X_train_subset.columns), pd.Series(y_resampled, name='Class')], axis=1)\n",
        "\n",
        "# Define X_train_subset with only the top 10 features from the oversampled data\n",
        "X_train_subset = oversampled_df[top_features]\n",
        "\n",
        "# Define y_train_subset from the oversampled data\n",
        "y_train_subset = oversampled_df['Class']\n",
        "\n",
        "# Define hyperparameters to tune\n",
        "param_grid = {\n",
        "    'C': [0.001, 0.01, 0.1, 1, 10, 100],  # Regularization parameter\n",
        "    'penalty': ['l2']  # Regularization type\n",
        "}\n",
        "\n",
        "# Instantiate the GridSearchCV object with logistic regression classifier and parameter grid\n",
        "grid_search = GridSearchCV(LogisticRegression(random_state=42, solver='lbfgs'), param_grid, cv=5, scoring='f1_macro')\n",
        "\n",
        "# Fit the grid search to the training data\n",
        "grid_search.fit(X_train_subset, y_train_subset)\n",
        "\n",
        "# Get the best hyperparameters\n",
        "best_params = grid_search.best_params_\n",
        "\n",
        "# Instantiate logistic regression with the best hyperparameters\n",
        "logistic_regression_tuned = LogisticRegression(**best_params, random_state=42)\n",
        "\n",
        "# Fit the logistic regression classifier with the best hyperparameters to the training data\n",
        "logistic_regression_tuned.fit(X_train_subset, y_train_subset)\n",
        "\n",
        "# Define X_eval with only the top 10 features from the evaluation_subset\n",
        "X_eval = eval_subset[top_features]\n",
        "\n",
        "# Define y_eval from the evaluation_subset\n",
        "y_eval = eval_subset['Class']\n",
        "\n",
        "# Make predictions on the evaluation data using the tuned Logistic Regression classifier\n",
        "y_pred_tuned = logistic_regression_tuned.predict(X_eval)\n",
        "\n",
        "# Generate classification report as a dictionary for the tuned model\n",
        "report_dict_tuned = classification_report(y_eval, y_pred_tuned, output_dict=True)\n",
        "\n",
        "# Compute balanced accuracy for the tuned model\n",
        "balancedAccuracy_tuned = balanced_accuracy_score(y_eval, y_pred_tuned)\n",
        "\n",
        "# Print overall scores for the tuned model\n",
        "print(\"Overall Scores for Tuned Model:\")\n",
        "print(\"Accuracy:\", report_dict_tuned['accuracy'])\n",
        "print(\"Precision:\", report_dict_tuned['macro avg']['precision'])\n",
        "print(\"Recall:\", report_dict_tuned['macro avg']['recall'])\n",
        "print(\"F1-score:\", report_dict_tuned['macro avg']['f1-score'])\n",
        "print(\"Balanced Accuracy:\", balancedAccuracy_tuned)\n",
        "\n"
      ],
      "metadata": {
        "colab": {
          "base_uri": "https://localhost:8080/"
        },
        "id": "REZOPUHBVmL-",
        "outputId": "43d24440-c0fa-4dea-af01-df96fa12703d"
      },
      "execution_count": 32,
      "outputs": [
        {
          "output_type": "stream",
          "name": "stdout",
          "text": [
            "Overall Scores for Tuned Model:\n",
            "Accuracy: 0.8303291536050157\n",
            "Precision: 0.5269209783958858\n",
            "Recall: 0.7979605662757557\n",
            "F1-score: 0.5067366301895131\n",
            "Balanced Accuracy: 0.7979605662757557\n"
          ]
        }
      ]
    },
    {
      "cell_type": "markdown",
      "source": [
        "Hyperparameter tuning of the Random forest (after being treaed with Under sampling)"
      ],
      "metadata": {
        "id": "--91KCc5EugT"
      }
    },
    {
      "cell_type": "code",
      "source": [
        "from sklearn.ensemble import RandomForestClassifier\n",
        "from imblearn.under_sampling import RandomUnderSampler\n",
        "from sklearn.model_selection import GridSearchCV\n",
        "from sklearn.metrics import classification_report\n",
        "import pandas as pd\n",
        "\n",
        "# Initialize RandomUnderSampler without preserving class proportions\n",
        "undersampler = RandomUnderSampler(random_state=42, sampling_strategy='majority')\n",
        "\n",
        "# Define your feature matrix (X) and target variable (y) for training_subset\n",
        "X_train_subset = train_subset.drop(columns=['Class', 'Info_cluster'])  # Features\n",
        "y_train_subset = train_subset['Class']  # Target variable\n",
        "\n",
        "# Perform under-sampling\n",
        "X_resampled, y_resampled = undersampler.fit_resample(X_train_subset, y_train_subset)\n",
        "\n",
        "# Convert back to DataFrame\n",
        "undersampled_df = pd.concat([pd.DataFrame(X_resampled, columns=X_train_subset.columns), pd.Series(y_resampled, name='Class')], axis=1)\n",
        "\n",
        "# Shuffle the dataset (if necessary)\n",
        "# undersampled_df = undersampled_df.sample(frac=1, random_state=42).reset_index(drop=True)\n",
        "\n",
        "########################### Random Forest with Hyperparameter Tuning ##########################\n",
        "\n",
        "# Define X_train_subset with only the top 10 features from the undersampled data\n",
        "X_train_subset = undersampled_df[top_features]\n",
        "\n",
        "# Define y_train_subset from the undersampled data\n",
        "y_train_subset = undersampled_df['Class']\n",
        "\n",
        "# Define the parameter grid for hyperparameter tuning\n",
        "param_grid = {\n",
        "    'n_estimators': [50, 100, 200],\n",
        "    'max_depth': [None, 10, 20],\n",
        "    'min_samples_split': [2, 5, 10],\n",
        "    'min_samples_leaf': [1, 2, 4]\n",
        "}\n",
        "\n",
        "# Instantiate the RandomForestClassifier\n",
        "random_forest = RandomForestClassifier(random_state=42)\n",
        "\n",
        "# Initialize GridSearchCV with the classifier and parameter grid\n",
        "grid_search = GridSearchCV(random_forest, param_grid, cv=5, scoring='f1_macro')\n",
        "\n",
        "# Fit GridSearchCV to the training data\n",
        "grid_search.fit(X_train_subset, y_train_subset)\n",
        "\n",
        "# Get the best hyperparameters\n",
        "best_params = grid_search.best_params_\n",
        "\n",
        "# Instantiate the RandomForestClassifier with the best hyperparameters\n",
        "best_random_forest = RandomForestClassifier(random_state=42, **best_params)\n",
        "\n",
        "# Fit the random forest to the training subset data\n",
        "best_random_forest.fit(X_train_subset, y_train_subset)\n",
        "\n",
        "################################## Checking performance using evaluation_training dataset #####################\n",
        "\n",
        "# Define X_eval with only the top 10 features from the evaluation_subset\n",
        "X_eval = eval_subset[top_features]\n",
        "\n",
        "# Define y_eval from the evaluation_subset\n",
        "y_eval = eval_subset['Class']\n",
        "\n",
        "# Make predictions on the evaluation data using the random forest model\n",
        "y_pred = best_random_forest.predict(X_eval)\n",
        "\n",
        "\n",
        "# Generate classification report as a dictionary\n",
        "report_dict = classification_report(y_eval_us, y_pred_us, output_dict=True)\n",
        "\n",
        "# Compute balanced accuracy\n",
        "balancedAccuracy = balanced_accuracy_score(y_eval_us, y_pred_us)\n",
        "\n",
        "# Print overall scores\n",
        "print(\"Overall Scores:\")\n",
        "print(\"Accuracy:\", report_dict['accuracy'])\n",
        "print(\"Precision:\", report_dict['macro avg']['precision'])\n",
        "print(\"Recall:\", report_dict['macro avg']['recall'])\n",
        "print(\"F1-score:\", report_dict['macro avg']['f1-score'])\n",
        "print(\"Balanced Accuracy:\", balancedAccuracy)"
      ],
      "metadata": {
        "id": "Dq4--HgyCUM-"
      },
      "execution_count": null,
      "outputs": []
    },
    {
      "cell_type": "markdown",
      "source": [
        "Hyperparameter tuning of the Decison Tree (after being treaed with Under sampling)"
      ],
      "metadata": {
        "id": "kLSWaou2FJkX"
      }
    },
    {
      "cell_type": "code",
      "source": [
        "from sklearn.model_selection import GridSearchCV\n",
        "\n",
        "# Initialize RandomUnderSampler\n",
        "undersampler = RandomUnderSampler(random_state=42)\n",
        "\n",
        "# Define your feature matrix (X) and target variable (y) for training_subset\n",
        "X_train_subset = train_subset.drop(columns=['Class', 'Info_cluster'])  # Features\n",
        "y_train_subset = train_subset['Class']  # Target variable\n",
        "\n",
        "# Perform undersampling\n",
        "X_resampled, y_resampled = undersampler.fit_resample(X_train_subset, y_train_subset)\n",
        "\n",
        "# Convert back to DataFrame\n",
        "undersampled_df = pd.concat([pd.DataFrame(X_resampled, columns=X_train_subset.columns), pd.Series(y_resampled, name='Class')], axis=1)\n",
        "\n",
        "# Shuffle the dataset\n",
        "undersampled_df = undersampled_df.sample(frac=1, random_state=42).reset_index(drop=True)\n",
        "\n",
        "########################### Decision Tree with Hyperparameter Tuning ##########################\n",
        "\n",
        "# Define X_train_subset with only the top 10 features from the undersampled data\n",
        "X_train_subset = undersampled_df[top_features]\n",
        "\n",
        "# Define y_train_subset from the undersampled data\n",
        "y_train_subset = undersampled_df['Class']\n",
        "\n",
        "# Define the parameter grid for hyperparameter tuning\n",
        "param_grid = {\n",
        "    'max_depth': [None, 5, 10, 20, 30, 50],  # Expanded range for max_depth\n",
        "}\n",
        "\n",
        "\n",
        "# Instantiate the DecisionTreeClassifier\n",
        "decision_tree = DecisionTreeClassifier(random_state=42)\n",
        "\n",
        "# Initialize GridSearchCV with the classifier and parameter grid\n",
        "grid_search = GridSearchCV(decision_tree, param_grid, cv=5, scoring='f1_macro')\n",
        "\n",
        "# Fit GridSearchCV to the training data\n",
        "grid_search.fit(X_train_subset, y_train_subset)\n",
        "\n",
        "# Get the best hyperparameters\n",
        "best_params = grid_search.best_params_\n",
        "\n",
        "# Instantiate the DecisionTreeClassifier with the best hyperparameters\n",
        "best_decision_tree = DecisionTreeClassifier(random_state=42, **best_params)\n",
        "\n",
        "# Fit the decision tree to the training subset data\n",
        "best_decision_tree.fit(X_train_subset, y_train_subset)\n",
        "\n",
        "################################## Checking performance using evaluation_training dataset #####################\n",
        "\n",
        "# Define X_eval with only the top 10 features from the evaluation_subset\n",
        "X_eval = eval_subset[top_features]\n",
        "\n",
        "# Define y_eval from the evaluation_subset\n",
        "y_eval = eval_subset['Class']\n",
        "\n",
        "# Make predictions on the evaluation data using the decision tree model\n",
        "y_pred = best_decision_tree.predict(X_eval)\n",
        "\n",
        "# Generate classification report as a dictionary\n",
        "report_dict = classification_report(y_eval, y_pred, output_dict=True)\n",
        "\n",
        "# Print overall scores\n",
        "print(\"Overall Scores:\")\n",
        "print(\"Accuracy:\", report_dict['accuracy'])\n",
        "print(\"Precision:\", report_dict['macro avg']['precision'])\n",
        "print(\"Recall:\", report_dict['macro avg']['recall'])\n",
        "print(\"F1-score:\", report_dict['macro avg']['f1-score'])\n",
        "\n",
        "# Print best hyperparameters\n",
        "print(\"Best Hyperparameters:\", best_params)"
      ],
      "metadata": {
        "id": "7CsuUmNuydAx"
      },
      "execution_count": null,
      "outputs": []
    },
    {
      "cell_type": "markdown",
      "source": [
        "# **Data Mining Pipeline**\n",
        "\n",
        "This Pipeline was created using Functional Programming"
      ],
      "metadata": {
        "id": "TslXlfMOnW5T"
      }
    },
    {
      "cell_type": "code",
      "source": [
        "from sklearn.linear_model import LogisticRegression\n",
        "\n",
        "\n",
        "\n",
        "def drop_info_variables(df):\n",
        "    info_variables = ['Info_PepID','Info_organism_id', 'Info_protein_id', 'Info_pos', 'Info_AA', 'Info_epitope_id', 'Info_nPos', 'Info_nNeg']\n",
        "    return df.drop(info_variables, axis=1)\n",
        "\n",
        "def clean_missing_values(df, threshold_column=0.5, threshold_row=0.5):\n",
        "    missing_percentage_column = df.isnull().mean()\n",
        "    missing_percentage_row = df.isnull().mean(axis=1)\n",
        "\n",
        "    columns_to_drop = missing_percentage_column[missing_percentage_column > threshold_column].index.tolist()\n",
        "    rows_to_drop = missing_percentage_row[missing_percentage_row > threshold_row].index.tolist()\n",
        "\n",
        "    cleaned_df = df.drop(columns=columns_to_drop, index=rows_to_drop)\n",
        "\n",
        "    return cleaned_df\n",
        "\n",
        "\n",
        "from sklearn.ensemble import IsolationForest\n",
        "\n",
        "def quantile_capping(training_data, lower_quantile, upper_quantile):\n",
        "    # Initialise Isolation Forest model (unspecified contamination)\n",
        "    isolation_forest = IsolationForest(random_state=42)\n",
        "\n",
        "    # Fit the model to the data and predict outliers\n",
        "    outlier_preds = isolation_forest.fit_predict(training_data)\n",
        "\n",
        "    # Identify outliers (outlier_preds == -1 indicates outliers)\n",
        "    outliers = training_data[outlier_preds == -1]\n",
        "\n",
        "    # Identify the rows that contain outliers based on the 'outliers' DataFrame\n",
        "    outlier_indices = outliers.index\n",
        "\n",
        "    # Calculate the lower and upper percentiles for each column in the identified outlier rows\n",
        "    percentiles_lower = training_data.quantile(lower_quantile)\n",
        "    percentiles_upper = training_data.quantile(upper_quantile)\n",
        "\n",
        "    # Apply quantile capping to the identified outlier rows\n",
        "    for column in training_data.columns:\n",
        "        training_data.loc[outlier_indices, column] = training_data.loc[outlier_indices, column].clip(upper=percentiles_upper[column])\n",
        "\n",
        "    return training_data\n",
        "\n",
        "from sklearn.preprocessing import MinMaxScaler\n",
        "\n",
        "def scaling(training_data):\n",
        "    # Initialize MinMaxScaler\n",
        "    scaler = MinMaxScaler()\n",
        "\n",
        "    if 'Class' in training_data.columns:\n",
        "      # Specify columns to scale (exclude 'Class' and 'Info_cluster')\n",
        "      columns_to_scale = training_data.columns.drop(['Class', 'Info_cluster'])\n",
        "    else:\n",
        "      columns_to_scale = training_data.columns.drop(['Info_cluster'])\n",
        "\n",
        "    # Fit scaler to the selected columns and transform them\n",
        "    training_data[columns_to_scale] = scaler.fit_transform(training_data[columns_to_scale])\n",
        "\n",
        "    return training_data\n",
        "\n",
        "def select_top_features(X, y, k=10):\n",
        "    from sklearn.feature_selection import SelectKBest\n",
        "    from sklearn.feature_selection import mutual_info_classif\n",
        "\n",
        "    # Instantiate the SelectKBest feature selection method\n",
        "    selector = SelectKBest(score_func=mutual_info_classif, k=k)\n",
        "\n",
        "    # Fit the selector to the data\n",
        "    selector.fit(X, y)\n",
        "\n",
        "    # Get the scores\n",
        "    scores = selector.scores_\n",
        "\n",
        "    # Get the indices of the top k features\n",
        "    top_indices = scores.argsort()[-k:][::-1]\n",
        "\n",
        "    # Get the names of the top k features\n",
        "    top_features = X.columns[top_indices]\n",
        "\n",
        "    return top_features\n",
        "\n",
        "from imblearn.over_sampling import SMOTE\n",
        "\n",
        "def smote(X, y, random_state=42):\n",
        "    # Initialize SMOTE\n",
        "    smote = SMOTE(random_state=random_state)\n",
        "\n",
        "    # Perform SMOTE over-sampling\n",
        "    X_resampled, y_resampled = smote.fit_resample(X, y)\n",
        "\n",
        "    # Convert back to DataFrame\n",
        "    oversampled_df = pd.concat([pd.DataFrame(X_resampled, columns=X.columns), pd.Series(y_resampled, name=y.name)], axis=1)\n",
        "\n",
        "    return oversampled_df\n",
        "\n",
        "\n",
        "def logistic_regression(X, y, random_state=42):\n",
        "    # Instantiate the Logistic Regression classifier\n",
        "    logistic_regression = LogisticRegression(random_state=random_state)\n",
        "\n",
        "    # Fit the Logistic Regression classifier to the training subset data\n",
        "    logistic_regression.fit(X, y)\n",
        "\n",
        "    return logistic_regression\n",
        "\n",
        "from sklearn.metrics import classification_report, balanced_accuracy_score\n",
        "\n",
        "def evaluate_performance(logistic_regression, X_eval, y_eval):\n",
        "    # Make predictions on the evaluation data using the logistic regression classifier\n",
        "    y_pred = logistic_regression.predict(X_eval)\n",
        "\n",
        "    # Generate classification report as a dictionary\n",
        "    report_dict = classification_report(y_eval, y_pred, output_dict=True)\n",
        "\n",
        "    # Compute balanced accuracy\n",
        "    balanced_accuracy = balanced_accuracy_score(y_eval, y_pred)\n",
        "\n",
        "    # Print overall scores\n",
        "    print(\"Overall Scores:\")\n",
        "    print(\"Accuracy:\", report_dict['accuracy'])\n",
        "    print(\"Precision:\", report_dict['macro avg']['precision'])\n",
        "    print(\"Recall:\", report_dict['macro avg']['recall'])\n",
        "    print(\"F1-score:\", report_dict['macro avg']['f1-score'])\n",
        "    print(\"Balanced Accuracy:\", balanced_accuracy)\n",
        "\n",
        "    return\n",
        "\n",
        "\n",
        "\n",
        "path = \"df_reduced.csv\"\n",
        "df = pd.read_csv(path, sep=';')\n",
        "\n",
        "\n",
        "df = drop_info_variables(df)\n",
        "df = clean_missing_values(df)\n",
        "df = quantile_capping(df,0.05,0.95)\n",
        "df = scaling(df)\n",
        "\n",
        "# Split the dataset\n",
        "info_cluster = df['Info_cluster']\n",
        "group_splitter = GroupShuffleSplit(n_splits=1, train_size=0.75, random_state=50)\n",
        "for train_index, eval_index in group_splitter.split(df, groups=info_cluster):\n",
        "    training_data = df.iloc[train_index]\n",
        "    evaluation_data = df.iloc[eval_index]\n",
        "\n",
        "\n",
        "\n",
        "# Define X and y for training data\n",
        "train_X = training_data.drop(columns=['Class', 'Info_cluster'])\n",
        "train_y = training_data['Class']\n",
        "\n",
        "top_features = select_top_features(train_X,train_y)\n",
        "\n",
        "\n",
        "smote_train_data = smote(train_X,train_y)\n",
        "\n",
        "# updating the new class balanced X and y\n",
        "train_X = smote_train_data[top_features]\n",
        "train_y = smote_train_data['Class']\n",
        "\n",
        "\n",
        "\n",
        "logisticModel = logistic_regression(train_X, train_y)\n"
      ],
      "metadata": {
        "id": "RJDtSzLK9phM"
      },
      "execution_count": null,
      "outputs": []
    },
    {
      "cell_type": "markdown",
      "source": [
        "The performance metric of the Evaluation Dataset (split from the original dataset)"
      ],
      "metadata": {
        "id": "j7AqLaxBijXU"
      }
    },
    {
      "cell_type": "code",
      "source": [
        "# Define X and y for evlauation data\n",
        "eval_X = evaluation_data[top_features]\n",
        "eval_y = evaluation_data['Class']\n",
        "\n",
        "\n",
        "evaluate_performance(logisticModel, eval_X, eval_y)\n"
      ],
      "metadata": {
        "id": "i_atLm_yiyeH"
      },
      "execution_count": null,
      "outputs": []
    },
    {
      "cell_type": "markdown",
      "source": [
        "Using the Pipeline to predict the value for the reduced_holdout set"
      ],
      "metadata": {
        "id": "olp2ry2ikNKN"
      }
    },
    {
      "cell_type": "code",
      "source": [
        "path = \"df_reduced_holdout.csv\"\n",
        "df = pd.read_csv(path, sep=';')\n",
        "\n",
        "#processing the holdout_df\n",
        "holdout_df = drop_info_variables(df)\n",
        "holdout_df = clean_missing_values(holdout_df)\n",
        "holdout_df = quantile_capping(holdout_df,0.05,0.95)\n",
        "holdout_df = scaling(holdout_df)\n",
        "\n",
        "X = holdout_df[top_features]\n",
        "\n",
        "predicted_y = logisticModel.predict(X)\n",
        "\n",
        "# Add predicted values as a new column \"Class\"\n",
        "df['Class'] = predicted_y\n",
        "\n",
        "df.head()\n",
        "\n",
        "# Save the updated DataFrame as a CSV file with the same separator as the original file\n",
        "output_path = \"Iqbal_Usman_ CS4850_predictions.csv.\"\n",
        "df.to_csv(output_path, sep=';', index=False)\n",
        "\n",
        "# Print a message to confirm the save operation\n",
        "print(\"New file saved as:\", output_path)"
      ],
      "metadata": {
        "id": "O8HFkw0MkZ1O"
      },
      "execution_count": null,
      "outputs": []
    }
  ],
  "metadata": {
    "colab": {
      "provenance": [],
      "collapsed_sections": [
        "WE-958D9XI9M",
        "eXhgxLKvTiRJ",
        "tgN0tJG-7aBa",
        "wF5VSftuvVsl",
        "d8vea0Vqwy3F",
        "v-Gt6z8B0Jcx",
        "Q0aQJo1cyXFK",
        "TslXlfMOnW5T"
      ]
    },
    "kernelspec": {
      "display_name": "Python 3",
      "name": "python3"
    },
    "language_info": {
      "name": "python"
    }
  },
  "nbformat": 4,
  "nbformat_minor": 0
}
